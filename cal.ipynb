{
 "cells": [
  {
   "cell_type": "code",
   "execution_count": 1,
   "metadata": {},
   "outputs": [],
   "source": [
    "import numpy as np\n",
    "import matplotlib.pyplot as plt\n",
    "from tqdm import tqdm\n",
    "import os\n",
    "from src.utils_py.io.gro import read_gro, write_gro\n",
    "from src.utils_py.geom.Box import Box\n",
    "from src.utils_py.geom.Cylinder import Cylinder\n",
    "from src.utils_py.geom.CylinderSegment import CylinderSegment\n",
    "from src.utils_py.geom.AntiCylinderSegment import AntiCylinderSegment\n",
    "from src.utils_py.assembler.build import build_system"
   ]
  },
  {
   "attachments": {},
   "cell_type": "markdown",
   "metadata": {},
   "source": [
    "---"
   ]
  },
  {
   "attachments": {},
   "cell_type": "markdown",
   "metadata": {},
   "source": [
    "#### Конфигурация c антицилиндрами"
   ]
  },
  {
   "cell_type": "code",
   "execution_count": 10,
   "metadata": {},
   "outputs": [],
   "source": [
    "folder = 'droplet_calcit_gromos'\n",
    "dir_gro = 'ff/gromos/gro/'"
   ]
  },
  {
   "cell_type": "code",
   "execution_count": 11,
   "metadata": {},
   "outputs": [],
   "source": [
    "HEIGHT = 6.5\n",
    "WIDTH_X = 9.23520\n",
    "WIDTH_Y = 13.49130\n",
    "\n",
    "offset = 2\n",
    "delta_h = 0.15\n",
    "h = 3.02020"
   ]
  },
  {
   "cell_type": "code",
   "execution_count": 23,
   "metadata": {},
   "outputs": [
    {
     "name": "stdout",
     "output_type": "stream",
     "text": [
      "Number of molecules:\n",
      "spce \t 802\n",
      "decane \t 2357\n",
      "\n",
      "Filling system:\n"
     ]
    },
    {
     "name": "stderr",
     "output_type": "stream",
     "text": [
      "100%|██████████| 802/802 [02:53<00:00,  4.63it/s]\n",
      "100%|██████████| 2357/2357 [06:12<00:00,  6.33it/s]\n"
     ]
    }
   ],
   "source": [
    "''' ПАРАМЕТРЫ НЕ ТРОГАТЬ!!! '''\n",
    "insertion_limit = int(1e5)\n",
    "rotation_limit = 1000\n",
    "package = 0.3\n",
    "distance = {'min': 0.08**2, 'opt': 0.12**2}\n",
    "phi = 20\n",
    "\n",
    "system_size = np.array([WIDTH_X, WIDTH_Y, HEIGHT + h])\n",
    "# structure = Structure(box=system_size, atoms=[])\n",
    "structure = read_gro(f'na_diff/{folder}/cal_fixed.gro')\n",
    "points = list(structure.get_XYZ())\n",
    "structure.box = system_size\n",
    "\n",
    "names = ['spce', 'decane']\n",
    "density = [33, 3] # nm-3\n",
    "\n",
    "box = Box(\n",
    "    center=np.array([WIDTH_X/2, WIDTH_Y/2, h + HEIGHT/2]),\n",
    "    borders=np.array([WIDTH_X, WIDTH_Y, HEIGHT])\n",
    ")\n",
    "\n",
    "box_delta = Box(\n",
    "    center=np.array([WIDTH_X/2, WIDTH_Y/2, h + HEIGHT/2]),\n",
    "    borders=np.array([WIDTH_X, WIDTH_Y, HEIGHT - 2 * delta_h])\n",
    ")\n",
    "\n",
    "R = (WIDTH_Y - 2 * offset) / 2 / np.sin(np.deg2rad(phi / 2))\n",
    "r = (WIDTH_Y - 2 * offset) / 2 / np.tan(np.deg2rad(phi / 2))\n",
    "\n",
    "cylinder_segment = CylinderSegment(\n",
    "    center=np.array([WIDTH_X/2, WIDTH_Y/2, h - r]), \n",
    "    cylinder=Cylinder(\n",
    "        np.array([WIDTH_X/2, WIDTH_Y/2, h - r]), \n",
    "        radius=R, \n",
    "        length=WIDTH_X, \n",
    "        axis=np.array([1, 0, 0])\n",
    "    ),\n",
    "    segm_radius=r,\n",
    "    norm=np.array([0, 0, 1])\n",
    ")\n",
    "\n",
    "cylinder_segment_delta = CylinderSegment(\n",
    "    center=np.array([WIDTH_X/2, WIDTH_Y/2, h - r]), \n",
    "    cylinder=Cylinder(\n",
    "        np.array([WIDTH_X/2, WIDTH_Y/2, h - r]), \n",
    "        radius=R, \n",
    "        length=WIDTH_X, \n",
    "        axis=np.array([1, 0, 0])\n",
    "    ),\n",
    "    segm_radius=r + delta_h,\n",
    "    norm=np.array([0, 0, 1])\n",
    ")\n",
    "\n",
    "anticylinder_segment = AntiCylinderSegment(\n",
    "    center=cylinder_segment.center,\n",
    "    cylinder_segment=cylinder_segment,\n",
    "    box=box\n",
    ")\n",
    "\n",
    "anticylinder_segment_delta = AntiCylinderSegment(\n",
    "    center=cylinder_segment_delta.center,\n",
    "    cylinder_segment=cylinder_segment_delta,\n",
    "    box=box_delta\n",
    ")\n",
    "\n",
    "insert_shapes = [cylinder_segment_delta, anticylinder_segment_delta]\n",
    "shapes = [cylinder_segment, anticylinder_segment]\n",
    "numbers = list(np.round(np.array([shapes[i].get_volume() * density[i] for i in range(len(names))])).astype(int))\n",
    "\n",
    "structure = build_system(\n",
    "    dir_gro, structure, names, numbers, insert_shapes, points,\n",
    "    insertion_limit=insertion_limit,\n",
    "    rotation_limit=rotation_limit,\n",
    "    package=package,\n",
    "    min_dist2=distance['min']\n",
    ")"
   ]
  },
  {
   "attachments": {},
   "cell_type": "markdown",
   "metadata": {},
   "source": [
    "#### Конфигурация половины"
   ]
  },
  {
   "cell_type": "code",
   "execution_count": 1,
   "metadata": {},
   "outputs": [],
   "source": [
    "import numpy as np\n",
    "import matplotlib.pyplot as plt\n",
    "from tqdm import tqdm\n",
    "import os\n",
    "from src.utils_py.io.gro import read_gro, write_gro\n",
    "from src.utils_py.geom.Box import Box\n",
    "from src.utils_py.geom.Cylinder import Cylinder\n",
    "from src.utils_py.geom.CylinderSegment import CylinderSegment\n",
    "from src.utils_py.geom.AntiCylinderSegment import AntiCylinderSegment\n",
    "from src.utils_py.assembler.build import build_system"
   ]
  },
  {
   "cell_type": "code",
   "execution_count": 2,
   "metadata": {},
   "outputs": [],
   "source": [
    "folder = 'droplet_calcit_gromos'\n",
    "dir_gro = 'ff/gromos'"
   ]
  },
  {
   "cell_type": "code",
   "execution_count": 8,
   "metadata": {},
   "outputs": [],
   "source": [
    "WIDTH_X = 10.00235\n",
    "WIDTH_Y = 9.63774\n",
    "HEIGHT = 4.9\n",
    "\n",
    "offset = 2\n",
    "delta_h = 0.15\n",
    "h = 2.13000"
   ]
  },
  {
   "cell_type": "code",
   "execution_count": 9,
   "metadata": {},
   "outputs": [
    {
     "name": "stdout",
     "output_type": "stream",
     "text": [
      "Number of molecules:\n",
      "decane \t 709\n",
      "spce \t 7794\n",
      "\n",
      "Filling system:\n"
     ]
    },
    {
     "name": "stderr",
     "output_type": "stream",
     "text": [
      "100%|██████████| 709/709 [00:04<00:00, 159.35it/s]\n",
      "100%|██████████| 7794/7794 [00:38<00:00, 204.35it/s]\n"
     ]
    }
   ],
   "source": [
    "''' ПАРАМЕТРЫ НЕ ТРОГАТЬ!!! '''\n",
    "insertion_limit = int(1e5)\n",
    "rotation_limit = 1000\n",
    "package = 0.3\n",
    "distance = {'min': 0.08**2, 'opt': 0.12**2}\n",
    "frac = 0.5\n",
    "\n",
    "system_size = np.array([WIDTH_X, WIDTH_Y, HEIGHT + h])\n",
    "# structure = Structure(box=system_size, atoms=[])\n",
    "structure = read_gro(f'cal_104_fixed/cal.gro')\n",
    "points = structure.atoms_xyz\n",
    "structure.box = system_size\n",
    "\n",
    "names = ['decane', 'spce']\n",
    "density = [3, 33] # nm-3\n",
    "\n",
    "box_left = Box(\n",
    "    center=np.array([WIDTH_X/2, WIDTH_Y*(1-frac)/2, h + HEIGHT/2]),\n",
    "    borders=np.array([WIDTH_X, WIDTH_Y*(1-frac), HEIGHT])\n",
    ")\n",
    "\n",
    "box_left_delta = Box(\n",
    "    center=np.array([WIDTH_X/2, WIDTH_Y*(1-frac)/2, h + HEIGHT/2]),\n",
    "    borders=np.array([WIDTH_X, WIDTH_Y*(1-frac), HEIGHT - 2 * delta_h])\n",
    ")\n",
    "\n",
    "box_right = Box(\n",
    "    center=np.array([WIDTH_X/2, WIDTH_Y*(1-frac/2), h + HEIGHT/2]),\n",
    "    borders=np.array([WIDTH_X, WIDTH_Y*frac, HEIGHT])\n",
    ")\n",
    "\n",
    "box_right_delta = Box(\n",
    "    center=np.array([WIDTH_X/2, WIDTH_Y*(1-frac/2), h + HEIGHT/2]),\n",
    "    borders=np.array([WIDTH_X, WIDTH_Y*frac, HEIGHT - 2 * delta_h])\n",
    ")\n",
    "\n",
    "insert_shapes = [box_left_delta, box_right_delta]\n",
    "shapes = [box_left, box_right]\n",
    "numbers = list(np.round(np.array([shapes[i].get_volume() * density[i] for i in range(len(names))])).astype(int))\n",
    "\n",
    "structure = build_system(\n",
    "    dir_gro, structure, names, numbers, insert_shapes, points,\n",
    "    insertion_limit=insertion_limit,\n",
    "    rotation_limit=rotation_limit,\n",
    "    package=package,\n",
    "    min_dist2=distance['min']\n",
    ")"
   ]
  },
  {
   "cell_type": "code",
   "execution_count": 10,
   "metadata": {},
   "outputs": [
    {
     "name": "stdout",
     "output_type": "stream",
     "text": [
      "cal_dw_709_7794\n"
     ]
    }
   ],
   "source": [
    "mol_names = ''.join(map(lambda x: 'w' if x == 'spce' else x[0], names))\n",
    "mol_nums = '_'.join(map(str, numbers))\n",
    "filename = 'cal_'+ mol_names + '_' + mol_nums\n",
    "\n",
    "print(filename)\n",
    "with open(f'na_diff/{folder}/{filename}.gro', 'w') as f:\n",
    "    f.write(write_gro(structure))"
   ]
  },
  {
   "attachments": {},
   "cell_type": "markdown",
   "metadata": {},
   "source": [
    "#### Запись .gro и system.itp"
   ]
  },
  {
   "cell_type": "code",
   "execution_count": 6,
   "metadata": {},
   "outputs": [],
   "source": [
    "mol_names = ''.join(map(lambda x: 'w' if x == 'spce' else x[0], names))\n",
    "mol_nums = '_'.join(map(str, numbers))\n",
    "filename = 'cal_'+ mol_names + '_' + mol_nums\n",
    "\n",
    "'''\n",
    "#include \"decane.itp\"\n",
    "#include \"spce.itp\"\n",
    "#include \"sil.itp\"\n",
    "\n",
    "[ system ]\n",
    "test\n",
    "\n",
    "[ molecules ]\n",
    "; molecule name         nr.\n",
    "#include \"calmol.itp\"\n",
    "spce \t 1311\n",
    "decane \t 2161\n",
    "'''\n",
    "\n",
    "with open(f'na_diff/{folder}/system.itp', 'w') as f:\n",
    "    for name in names:\n",
    "        f.write(f'#include \"{name}.itp\"\\n')\n",
    "    f.write('#include \"cal.itp\"\\n')\n",
    "\n",
    "    f.write(f'\\n[ system ]\\n{filename}\\n')\n",
    "    f.write('\\n[ molecules ]\\n; molecule name\\tnr.\\n')\n",
    "    f.write('#include \"calmol.itp\"\\n')\n",
    "    for i, name in enumerate(names):\n",
    "        f.write(f'{name}\\t{numbers[i]}\\n')\n",
    "\n",
    "print('Writeing .gro files.')\n",
    "\n",
    "with open(f'na_diff/{folder}/{filename}.gro', 'w') as f:\n",
    "    f.write(write_gro(structure))\n",
    "\n",
    "# writing backup\n",
    "with open(f'na_diff/{folder}/#{filename}.gro#', 'w') as f:\n",
    "    f.write(write_gro(structure))"
   ]
  },
  {
   "attachments": {},
   "cell_type": "markdown",
   "metadata": {},
   "source": [
    "#### Перемешивание"
   ]
  },
  {
   "cell_type": "code",
   "execution_count": 7,
   "metadata": {},
   "outputs": [
    {
     "name": "stdout",
     "output_type": "stream",
     "text": [
      "Iteration 1 - 11s\n",
      "115 overlaps detected\n",
      "Iteration 2 - 22s\n",
      "1 overlaps detected\n",
      "Iteration 3 - 33s\n",
      "0 overlaps detected\n"
     ]
    },
    {
     "data": {
      "text/plain": [
       "0"
      ]
     },
     "execution_count": 7,
     "metadata": {},
     "output_type": "execute_result"
    }
   ],
   "source": [
    "print('Mixing system')\n",
    "os.system(f'./mixer -f na_diff/{folder}/{filename}.gro -o na_diff/{folder}/{filename}.gro -mn2 {distance[\"min\"]} -opt2 {distance[\"opt\"]}')"
   ]
  },
  {
   "attachments": {},
   "cell_type": "markdown",
   "metadata": {},
   "source": [
    "#### Отправка ВСЕХ файлов на сервер"
   ]
  },
  {
   "cell_type": "code",
   "execution_count": 44,
   "metadata": {},
   "outputs": [],
   "source": [
    "files = [filename+'.gro', 'gromos.top', 'spce.itp', 'decane.itp', 'cal.itp', 'calmol.itp', 'system.itp']\n",
    "\n",
    "for file in files:\n",
    "    os.system(f'scp na_diff/{folder}/{file} mipt-nd:alexey/{folder}/{file}')"
   ]
  },
  {
   "attachments": {},
   "cell_type": "markdown",
   "metadata": {},
   "source": [
    "#### Отправка файлов на сервер при перезапуске"
   ]
  },
  {
   "cell_type": "code",
   "execution_count": 8,
   "metadata": {},
   "outputs": [
    {
     "name": "stdout",
     "output_type": "stream",
     "text": [
      "Sending files to server\n"
     ]
    }
   ],
   "source": [
    "print('Sending files to server')\n",
    "files = [filename+'.gro', 'system.itp']\n",
    "\n",
    "for file in files:\n",
    "    os.system(f'scp na_diff/{folder}/{file} mipt-nd:alexey/{folder}/{file}')"
   ]
  },
  {
   "cell_type": "code",
   "execution_count": 3,
   "metadata": {},
   "outputs": [],
   "source": [
    "filename = 'cal_wd_12943_504'"
   ]
  },
  {
   "attachments": {},
   "cell_type": "markdown",
   "metadata": {},
   "source": [
    "---"
   ]
  },
  {
   "attachments": {},
   "cell_type": "markdown",
   "metadata": {},
   "source": [
    "#### Стягиваем файлы для проверки"
   ]
  },
  {
   "cell_type": "code",
   "execution_count": 6,
   "metadata": {},
   "outputs": [
    {
     "data": {
      "text/plain": [
       "0"
      ]
     },
     "execution_count": 6,
     "metadata": {},
     "output_type": "execute_result"
    }
   ],
   "source": [
    "os.system(f'scp mipt-nd:alexey/trappe_test/cal_3.9_0.5_2.1_unchanged/cal_dw_568_6248.gro data/cal_dw_568_6248.gro')\n",
    "# os.system(f'scp mipt-nd:alexey/trappe_test/cal_3.9_0.5_2.1_modified/cal_dw_568_6248.gro data/cal_dw_568_6248.gro')\n",
    "# os.system(f'scp mipt-nd:alexey/new_cal_test/cal_3.9_0.5_2.1/cal_dw_568_6248.tpr data/cal_dw_568_6248.tpr')\n",
    "# os.system(f'scp mipt-nd:alexey/new_cal_test/cal_3.9_0.5_2.1/cal_dw_568_6248.cpt data/cal_dw_568_6248.cpt')\n",
    "# os.system(f'scp mipt-nd:alexey/new_cal_test/cal_3.9_0.5_2.1/cal_dw_568_6248.edr data/cal_dw_568_6248.edr')"
   ]
  },
  {
   "cell_type": "code",
   "execution_count": 2,
   "metadata": {},
   "outputs": [
    {
     "ename": "NameError",
     "evalue": "name 'os' is not defined",
     "output_type": "error",
     "traceback": [
      "\u001b[0;31m---------------------------------------------------------------------------\u001b[0m",
      "\u001b[0;31mNameError\u001b[0m                                 Traceback (most recent call last)",
      "Cell \u001b[0;32mIn[2], line 1\u001b[0m\n\u001b[0;32m----> 1\u001b[0m os\u001b[39m.\u001b[39msystem(\u001b[39mf\u001b[39m\u001b[39m'\u001b[39m\u001b[39mscp mipt-nd:alexey/new_cal_test/cal_3.9_0.5/cal_dw_568_6248.cpt data/cal_dw_568_6248.cpt\u001b[39m\u001b[39m'\u001b[39m)\n\u001b[1;32m      2\u001b[0m os\u001b[39m.\u001b[39msystem(\u001b[39mf\u001b[39m\u001b[39m'\u001b[39m\u001b[39mscp mipt-nd:alexey/new_cal_test/cal_3.9_0.5/cal_dw_568_6248.tpr data/cal_dw_568_6248.tpr\u001b[39m\u001b[39m'\u001b[39m)\n\u001b[1;32m      3\u001b[0m os\u001b[39m.\u001b[39msystem(\u001b[39m'\u001b[39m\u001b[39mecho 0 | gmx trjconv -f data/cal_dw_568_6248.cpt -s data/cal_dw_568_6248.tpr -o data/cal_dw_568_6248.gro\u001b[39m\u001b[39m'\u001b[39m)\n",
      "\u001b[0;31mNameError\u001b[0m: name 'os' is not defined"
     ]
    }
   ],
   "source": [
    "os.system(f'scp mipt-nd:alexey/new_cal_test/cal_3.9_0.5/cal_dw_568_6248.cpt data/cal_dw_568_6248.cpt')\n",
    "os.system(f'scp mipt-nd:alexey/new_cal_test/cal_3.9_0.5/cal_dw_568_6248.tpr data/cal_dw_568_6248.tpr')\n",
    "os.system('echo 0 | gmx trjconv -f data/cal_dw_568_6248.cpt -s data/cal_dw_568_6248.tpr -o data/cal_dw_568_6248.gro')"
   ]
  },
  {
   "cell_type": "code",
   "execution_count": 66,
   "metadata": {},
   "outputs": [
    {
     "data": {
      "text/plain": [
       "0"
      ]
     },
     "execution_count": 66,
     "metadata": {},
     "output_type": "execute_result"
    }
   ],
   "source": []
  },
  {
   "attachments": {},
   "cell_type": "markdown",
   "metadata": {},
   "source": [
    "#### Стягиваем файлы для рассчетов профилей плотности"
   ]
  },
  {
   "cell_type": "code",
   "execution_count": 53,
   "metadata": {},
   "outputs": [
    {
     "data": {
      "text/plain": [
       "0"
      ]
     },
     "execution_count": 53,
     "metadata": {},
     "output_type": "execute_result"
    }
   ],
   "source": [
    "os.system(f'scp mipt-nd:alexey/{folder}/{filename}.gro data/{filename}.gro')\n",
    "os.system(f'scp mipt-nd:alexey/{folder}/{filename}.xtc data/{filename}.xtc')\n",
    "os.system(f'scp mipt-nd:alexey/{folder}/{filename}.edr data/{filename}.edr')\n",
    "os.system(f'scp mipt-nd:alexey/{folder}/{filename}.tpr data/{filename}.tpr')"
   ]
  },
  {
   "attachments": {},
   "cell_type": "markdown",
   "metadata": {},
   "source": [
    "---"
   ]
  },
  {
   "attachments": {},
   "cell_type": "markdown",
   "metadata": {},
   "source": [
    "#### Рассчет энергии"
   ]
  },
  {
   "cell_type": "code",
   "execution_count": 30,
   "metadata": {},
   "outputs": [
    {
     "name": "stdout",
     "output_type": "stream",
     "text": [
      "\n",
      "Statistics over 2000001 steps [ 0.0000 through 4000.0000 ps ], 1 data sets\n",
      "All statistics are over 20001 points\n",
      "\n",
      "Energy                      Average   Err.Est.       RMSD  Tot-Drift\n",
      "-------------------------------------------------------------------------------\n",
      "Total Energy             3.61324e+10        630    3992.88   -4132.17  (kJ/mol)\n"
     ]
    },
    {
     "name": "stderr",
     "output_type": "stream",
     "text": [
      "                  :-) GROMACS - gmx energy, 2023-Homebrew (-:\n",
      "\n",
      "Executable:   /opt/homebrew/bin/../Cellar/gromacs/2023/bin/gmx\n",
      "Data prefix:  /opt/homebrew/bin/../Cellar/gromacs/2023\n",
      "Working dir:  /Users/alexey/Dev/MD_conf\n",
      "Command line:\n",
      "  gmx energy -f data/cal_wd_802_2357 -s data/cal_wd_802_2357 -o data/energy\n",
      "\n",
      "Opened data/cal_wd_802_2357.edr as single precision energy file\n",
      "\n",
      "Select the terms you want from the following list by\n",
      "selecting either (part of) the name or the number or a combination.\n",
      "End your selection with an empty line or a zero.\n",
      "-------------------------------------------------------------------\n",
      "  1  G96Angle         2  Proper-Dih.      3  LJ-14            4  Coulomb-14    \n",
      "  5  LJ-(SR)          6  Coulomb-(SR)     7  Coul.-recip.     8  Potential     \n",
      "  9  Kinetic-En.     10  Total-Energy    11  Conserved-En.   12  Temperature   \n",
      " 13  Pressure        14  Constr.-rmsd    15  Vir-XX          16  Vir-XY        \n",
      " 17  Vir-XZ          18  Vir-YX          19  Vir-YY          20  Vir-YZ        \n",
      " 21  Vir-ZX          22  Vir-ZY          23  Vir-ZZ          24  Pres-XX       \n",
      " 25  Pres-XY         26  Pres-XZ         27  Pres-YX         28  Pres-YY       \n",
      " 29  Pres-YZ         30  Pres-ZX         31  Pres-ZY         32  Pres-ZZ       \n",
      " 33  #Surf*SurfTen   34  T-System        35  Lamb-System   \n",
      "\n",
      "\n",
      "Back Off! I just backed up data/energy.xvg to data/#energy.xvg.1#\n",
      "Last energy frame read 2000 time 4000.000         \n",
      "\n",
      "GROMACS reminds you: \"I Have a Bad Case Of Purple Diarrhea\" (Urban Dance Squad)\n",
      "\n"
     ]
    },
    {
     "data": {
      "text/plain": [
       "0"
      ]
     },
     "execution_count": 30,
     "metadata": {},
     "output_type": "execute_result"
    }
   ],
   "source": [
    "os.system(f'echo 10 0 | gmx energy -f data/{filename} -s data/{filename} -o data/energy')\n",
    "os.system(f'rm data/#*#')"
   ]
  },
  {
   "cell_type": "code",
   "execution_count": 31,
   "metadata": {},
   "outputs": [
    {
     "data": {
      "text/plain": [
       "[<matplotlib.lines.Line2D at 0x156a11d90>]"
      ]
     },
     "execution_count": 31,
     "metadata": {},
     "output_type": "execute_result"
    },
    {
     "data": {
      "image/png": "[encoded data removed]",
      "text/plain": [
       "<Figure size 800x600 with 1 Axes>"
      ]
     },
     "metadata": {},
     "output_type": "display_data"
    }
   ],
   "source": [
    "y, eng = np.loadtxt(\"data/energy.xvg\",comments=[\"@\", \"#\"],unpack=True)\n",
    "plt.figure(figsize=(8, 6))\n",
    "plt.grid()\n",
    "plt.plot(y, eng)"
   ]
  },
  {
   "attachments": {},
   "cell_type": "markdown",
   "metadata": {},
   "source": [
    "---"
   ]
  },
  {
   "attachments": {},
   "cell_type": "markdown",
   "metadata": {},
   "source": [
    "#### Рассчет профиля плотности"
   ]
  },
  {
   "cell_type": "code",
   "execution_count": 11,
   "metadata": {},
   "outputs": [
    {
     "name": "stderr",
     "output_type": "stream",
     "text": [
      "                  :-) GROMACS - gmx density, 2023-Homebrew (-:\n",
      "\n",
      "Executable:   /opt/homebrew/bin/../Cellar/gromacs/2023/bin/gmx\n",
      "Data prefix:  /opt/homebrew/bin/../Cellar/gromacs/2023\n",
      "Working dir:  /Users/alexey/Dev/MD_conf\n",
      "Command line:\n",
      "  gmx density -f data/cal_wd_12943_504 -s data/cal_wd_12943_504 -o data/density -d Z -sl 200 -dens number -ng 1\n",
      "\n",
      "Reading file data/cal_wd_12943_504.tpr, VERSION 2019.2 (single precision)\n",
      "\n",
      "Select 1 group to calculate density for:\n",
      "Group     0 (         System) has 74727 elements\n",
      "Group     1 (          Other) has 74727 elements\n",
      "Group     2 (             Oh) has   128 elements\n",
      "Group     3 (            Caa) has  6122 elements\n",
      "Group     4 (           OCaa) has 18431 elements\n",
      "Group     5 (           CCaa) has  6177 elements\n",
      "Group     6 (          WATER) has 38829 elements\n",
      "Group     7 (          DECAN) has  5040 elements\n",
      "Reading frame      50 time   25.000   "
     ]
    },
    {
     "name": "stdout",
     "output_type": "stream",
     "text": [
      "Selected 7: 'DECAN'\n"
     ]
    },
    {
     "name": "stderr",
     "output_type": "stream",
     "text": [
      "Last frame        100 time   50.000   \n",
      "\n",
      "Read 101 frames from trajectory. Calculating density\n",
      "\n",
      "Back Off! I just backed up data/density.xvg to data/#density.xvg.1#\n",
      "\n",
      "GROMACS reminds you: \"Nada e organico, e tudo programado\" (Pitty)\n",
      "\n"
     ]
    },
    {
     "data": {
      "text/plain": [
       "0"
      ]
     },
     "execution_count": 11,
     "metadata": {},
     "output_type": "execute_result"
    }
   ],
   "source": [
    "os.system(f'echo 7 | gmx density -f data/{filename} -s data/{filename} -o data/density -d Z -sl 200 -dens number -ng 1')\n",
    "os.system(f'rm data/#*#')"
   ]
  },
  {
   "cell_type": "code",
   "execution_count": 23,
   "metadata": {},
   "outputs": [
    {
     "data": {
      "text/plain": [
       "(3.0, 7.872180875000001)"
      ]
     },
     "execution_count": 23,
     "metadata": {},
     "output_type": "execute_result"
    },
    {
     "data": {
      "image/png": "[encoded data removed]",
      "text/plain": [
       "<Figure size 800x600 with 1 Axes>"
      ]
     },
     "metadata": {},
     "output_type": "display_data"
    }
   ],
   "source": [
    "y, dens = np.loadtxt(\"data/density.xvg\",comments=[\"@\", \"#\"],unpack=True)\n",
    "plt.figure(figsize=(8, 6))\n",
    "plt.grid()\n",
    "ax = plt.gca()\n",
    "ax.set_aspect(1)\n",
    "plt.plot(dens / 33, y)\n",
    "plt.ylim(bottom=3)\n"
   ]
  },
  {
   "attachments": {},
   "cell_type": "markdown",
   "metadata": {},
   "source": [
    "---"
   ]
  },
  {
   "attachments": {},
   "cell_type": "markdown",
   "metadata": {},
   "source": [
    "### Рассчет профиля заряды"
   ]
  },
  {
   "cell_type": "code",
   "execution_count": 55,
   "metadata": {},
   "outputs": [
    {
     "name": "stderr",
     "output_type": "stream",
     "text": [
      "                  :-) GROMACS - gmx density, 2023-Homebrew (-:\n",
      "\n",
      "Executable:   /opt/homebrew/bin/../Cellar/gromacs/2023/bin/gmx\n",
      "Data prefix:  /opt/homebrew/bin/../Cellar/gromacs/2023\n",
      "Working dir:  /Users/alexey/Dev/MD_conf\n",
      "Command line:\n",
      "  gmx density -f data/cal_wd_11094_1009 -s data/cal_wd_11094_1009 -o data/charge -d Z -sl 200 -dens charge -ng 4\n",
      "\n",
      "Reading file data/cal_wd_11094_1009.tpr, VERSION 2019.2 (single precision)\n",
      "\n",
      "Select 4 groups to calculate density for:\n",
      "Group     0 (         System) has 74230 elements\n",
      "Group     1 (          Other) has 74230 elements\n",
      "Group     2 (             Oh) has   128 elements\n",
      "Group     3 (            Caa) has  6122 elements\n",
      "Group     4 (           OCaa) has 18431 elements\n",
      "Group     5 (           CCaa) has  6177 elements\n",
      "Group     6 (          WATER) has 33282 elements\n",
      "Group     7 (          DECAN) has 10090 elements\n",
      "Reading frame      50 time   25.000    a group: Select a group: "
     ]
    },
    {
     "name": "stdout",
     "output_type": "stream",
     "text": [
      "Selected 2: 'Oh'\n",
      "Selected 3: 'Caa'\n",
      "Selected 4: 'OCaa'\n",
      "Selected 5: 'CCaa'\n"
     ]
    },
    {
     "name": "stderr",
     "output_type": "stream",
     "text": [
      "Last frame        100 time   50.000   \n",
      "\n",
      "Read 101 frames from trajectory. Calculating density\n",
      "\n",
      "Back Off! I just backed up data/charge.xvg to data/#charge.xvg.1#\n",
      "\n",
      "GROMACS reminds you: \"This is Tense !\" (Star Wars Episode I The Phantom Menace)\n",
      "\n"
     ]
    },
    {
     "data": {
      "text/plain": [
       "0"
      ]
     },
     "execution_count": 55,
     "metadata": {},
     "output_type": "execute_result"
    }
   ],
   "source": [
    "os.system(f'echo 2 3 4 5 | gmx density -f data/{filename} -s data/{filename} -o data/charge -d Z -sl 200 -dens charge -ng 4')\n",
    "os.system(f'rm data/#*#')"
   ]
  },
  {
   "cell_type": "code",
   "execution_count": 59,
   "metadata": {},
   "outputs": [
    {
     "name": "stdout",
     "output_type": "stream",
     "text": [
      "-0.00018100000011500583\n"
     ]
    },
    {
     "data": {
      "image/png": "[encoded data removed]",
      "text/plain": [
       "<Figure size 800x600 with 1 Axes>"
      ]
     },
     "metadata": {},
     "output_type": "display_data"
    }
   ],
   "source": [
    "z, c1, c2, c3, c4 = np.loadtxt(\"data/charge.xvg\",comments=[\"@\", \"#\"],unpack=True)\n",
    "plt.figure(figsize=(8, 6))\n",
    "plt.grid()\n",
    "plt.plot(z, c1 + c2 + c3 + c4)\n",
    "plt.xlim(0, 3.6)\n",
    "print(np.sum(c1 + c2 + c3 + c4))"
   ]
  },
  {
   "cell_type": "code",
   "execution_count": 36,
   "metadata": {},
   "outputs": [
    {
     "ename": "IndexError",
     "evalue": "too many indices for array: array is 1-dimensional, but 3 were indexed",
     "output_type": "error",
     "traceback": [
      "\u001b[0;31m---------------------------------------------------------------------------\u001b[0m",
      "\u001b[0;31mIndexError\u001b[0m                                Traceback (most recent call last)",
      "Cell \u001b[0;32mIn[36], line 12\u001b[0m\n\u001b[1;32m      9\u001b[0m \u001b[39mid\u001b[39m \u001b[39m=\u001b[39m np\u001b[39m.\u001b[39mfloor(a\u001b[39m.\u001b[39mxyz \u001b[39m/\u001b[39m dr)\u001b[39m.\u001b[39mastype(\u001b[39mint\u001b[39m)\n\u001b[1;32m     10\u001b[0m \u001b[39mid\u001b[39m \u001b[39m-\u001b[39m\u001b[39m=\u001b[39m (\u001b[39mid\u001b[39m \u001b[39m==\u001b[39m N)\n\u001b[0;32m---> 12\u001b[0m grid[\u001b[39mid\u001b[39m[\u001b[39m0\u001b[39m], \u001b[39mid\u001b[39m[\u001b[39m1\u001b[39m], \u001b[39mid\u001b[39m[\u001b[39m2\u001b[39m]] \u001b[39m+\u001b[39m\u001b[39m=\u001b[39m \u001b[39m1\u001b[39m\n",
      "\u001b[0;31mIndexError\u001b[0m: too many indices for array: array is 1-dimensional, but 3 were indexed"
     ]
    }
   ],
   "source": [
    "structure = read_gro(f'data/car_wd_913_520.gro')\n",
    "type = 'WATER'\n",
    "N = 100\n",
    "grid = np.zeros(N)\n",
    "dr = structure.box / N\n",
    "\n",
    "for a in structure.atoms:\n",
    "    if (a.mol_name == type):\n",
    "        id = np.floor(a.xyz / dr).astype(int)\n",
    "        id -= (id == N)\n",
    "\n",
    "        grid[id[0], id[1], id[2]] += 1"
   ]
  },
  {
   "attachments": {},
   "cell_type": "markdown",
   "metadata": {},
   "source": [
    "---"
   ]
  },
  {
   "cell_type": "code",
   "execution_count": 27,
   "metadata": {},
   "outputs": [
    {
     "data": {
      "text/plain": [
       "2.0755846153846154"
      ]
     },
     "execution_count": 27,
     "metadata": {},
     "output_type": "execute_result"
    }
   ],
   "source": [
    "l = WIDTH_Y / HEIGHT\n",
    "l"
   ]
  },
  {
   "cell_type": "code",
   "execution_count": 28,
   "metadata": {},
   "outputs": [
    {
     "name": "stdout",
     "output_type": "stream",
     "text": [
      "0.37839852809465463 0.8966065584549608\n"
     ]
    }
   ],
   "source": [
    "print(np.pi / 4 / l, 1 + (np.pi - 4) / 4 / l)"
   ]
  },
  {
   "cell_type": "code",
   "execution_count": 29,
   "metadata": {},
   "outputs": [
    {
     "data": {
      "text/plain": [
       "0.2513084596259475"
      ]
     },
     "execution_count": 29,
     "metadata": {},
     "output_type": "execute_result"
    }
   ],
   "source": [
    "angle = cylinder_segment.get_volume() / box.get_volume()\n",
    "angle"
   ]
  },
  {
   "cell_type": "code",
   "execution_count": 30,
   "metadata": {},
   "outputs": [],
   "source": [
    "def rho(x, l, angle):\n",
    "    return (4 * angle * l + 4 * np.sqrt(1 - 4 * x * x) - np.pi) / 4 / l"
   ]
  },
  {
   "cell_type": "code",
   "execution_count": 31,
   "metadata": {},
   "outputs": [
    {
     "data": {
      "text/plain": [
       "[<matplotlib.lines.Line2D at 0x15f815280>]"
      ]
     },
     "execution_count": 31,
     "metadata": {},
     "output_type": "execute_result"
    },
    {
     "data": {
      "image/png": "[encoded data removed]",
      "text/plain": [
       "<Figure size 640x480 with 1 Axes>"
      ]
     },
     "metadata": {},
     "output_type": "display_data"
    }
   ],
   "source": [
    "x = np.linspace(-0.5, 0.5, 100)\n",
    "plt.plot(x, rho(x, l, angle))"
   ]
  },
  {
   "cell_type": "code",
   "execution_count": null,
   "metadata": {},
   "outputs": [
    {
     "data": {
      "text/plain": [
       "7.491300000000001"
      ]
     },
     "execution_count": 35,
     "metadata": {},
     "output_type": "execute_result"
    }
   ],
   "source": []
  },
  {
   "cell_type": "code",
   "execution_count": 16,
   "metadata": {},
   "outputs": [],
   "source": [
    "WIDTH_X = 9.23520\n",
    "WIDTH_Y = 13.49130\n",
    "# HEIGHT = WIDTH_Y / 3 # 5.34\n",
    "HEIGHT = 3\n",
    "\n",
    "offset = 2\n",
    "delta_h = 0.15\n",
    "h = 3.02020\n",
    "frac = 0.5\n",
    "\n",
    "# Конфигурация половины\n",
    "folder = f'cal_{HEIGHT:.1f}_{frac:.1f}'\n",
    "dir = 'ff/gromos'"
   ]
  },
  {
   "cell_type": "code",
   "execution_count": 48,
   "metadata": {},
   "outputs": [
    {
     "name": "stdout",
     "output_type": "stream",
     "text": [
      "C6  1.765546e-02\n",
      "C12 2.742528e-05\n",
      "1.765546e-02 2.742528e-05\n"
     ]
    }
   ],
   "source": [
    "'''\n",
    "   CH2   6  14.0270   0.0  A  7.468e-03  3.397e-05\n",
    "   CH3   6  15.0350   0.0  A  9.614e-03  2.665e-05\n",
    "'''\n",
    "\n",
    "# CH2\n",
    "# C6_1 = 7.468e-03\n",
    "# C12_1 = 3.397e-05\n",
    "\n",
    "# CH3\n",
    "C6_1 = 9.614e-03\n",
    "C12_1 = 2.665e-05\n",
    "\n",
    "''' --------------- '''\n",
    "\n",
    "''' \n",
    "    Ca  20  40.0780  0.0 A  1.417686e-03   2.512292e-07\n",
    "   CCa   6  12.0110  0.0 A  4.586343e-03   1.425105e-05\n",
    "   OCa   8  16.0000  0.0 A  2.026440e-03   1.763944e-06\n",
    "   Oo   16  16.0000  0.0 A  2.026440e-03   1.763944e-06\n",
    "\n",
    "'''\n",
    "\n",
    "# Ca\n",
    "# C6_2 = 1.417686e-03\n",
    "# C12_2 = 2.512292e-07\n",
    "\n",
    "# CCa\n",
    "# C6_2 = 4.586343e-03\n",
    "# C12_2 = 1.425105e-05\n",
    "\n",
    "# OCa & Oo\n",
    "C6_2 = 2.026440e-03\n",
    "C12_2 = 1.763944e-06\n",
    "\n",
    "\n",
    "print('C6 ', '{:e}'.format(4 * np.sqrt(C6_1 * C6_2)))\n",
    "print('C12', '{:e}'.format(4 * np.sqrt(C12_1 * C12_2)))\n",
    "print('{:e}'.format(4 * np.sqrt(C6_1 * C6_2)), '{:e}'.format(4 * np.sqrt(C12_1 * C12_2)))"
   ]
  },
  {
   "cell_type": "code",
   "execution_count": 54,
   "metadata": {},
   "outputs": [
    {
     "data": {
      "text/plain": [
       "0"
      ]
     },
     "execution_count": 54,
     "metadata": {},
     "output_type": "execute_result"
    }
   ],
   "source": [
    "f = 'cal_4.0_0.5'\n",
    "os.system(f'scp na_diff/{f}/run_x1.sh mipt-nd:alexey/gromos_test/{f}/run_x1.sh')"
   ]
  },
  {
   "cell_type": "code",
   "execution_count": 59,
   "metadata": {},
   "outputs": [
    {
     "data": {
      "text/plain": [
       "0"
      ]
     },
     "execution_count": 59,
     "metadata": {},
     "output_type": "execute_result"
    }
   ],
   "source": [
    "# cal_dw_785_3700.gro\n",
    "os.system(f'scp mipt-nd:alexey/gromos_test/cal_4.0_0.3/cal_dw_1047_4934.gro data/cal_dw_1047_4934.gro')"
   ]
  },
  {
   "cell_type": "markdown",
   "metadata": {},
   "source": [
    "---"
   ]
  },
  {
   "cell_type": "code",
   "execution_count": 2,
   "metadata": {},
   "outputs": [],
   "source": [
    "from src.utils_py.geom.Roll import Roll\n",
    "from src.utils_py.geom.AntiRoll import AntiRoll"
   ]
  },
  {
   "cell_type": "code",
   "execution_count": 3,
   "metadata": {},
   "outputs": [],
   "source": [
    "WIDTH_X = 10.00235\n",
    "WIDTH_Y = 9.63774 \n",
    "HEIGHT = 2.13\n",
    "H = 3.928"
   ]
  },
  {
   "cell_type": "code",
   "execution_count": 4,
   "metadata": {},
   "outputs": [
    {
     "name": "stdout",
     "output_type": "stream",
     "text": [
      "l: 2.500011456211813\n"
     ]
    }
   ],
   "source": [
    "print('l:', (WIDTH_X + WIDTH_Y) / H / 2)"
   ]
  },
  {
   "cell_type": "code",
   "execution_count": 5,
   "metadata": {},
   "outputs": [],
   "source": [
    "roll = Roll(\n",
    "    center=np.array([WIDTH_X/2, WIDTH_Y/2, HEIGHT + H/2]),\n",
    "    phi=0.5,\n",
    "    theta=0,\n",
    "    borders=np.array([WIDTH_X, WIDTH_Y, H]),\n",
    ")"
   ]
  },
  {
   "cell_type": "code",
   "execution_count": 7,
   "metadata": {},
   "outputs": [
    {
     "data": {
      "text/plain": [
       "False"
      ]
     },
     "execution_count": 7,
     "metadata": {},
     "output_type": "execute_result"
    }
   ],
   "source": [
    "roll.check_point(np.array([0, 1, 0.35]) * H)"
   ]
  },
  {
   "cell_type": "code",
   "execution_count": 12,
   "metadata": {},
   "outputs": [
    {
     "data": {
      "text/plain": [
       "1"
      ]
     },
     "execution_count": 12,
     "metadata": {},
     "output_type": "execute_result"
    }
   ],
   "source": [
    "2*np.random.randint(2)-1"
   ]
  },
  {
   "cell_type": "code",
   "execution_count": 11,
   "metadata": {},
   "outputs": [
    {
     "name": "stderr",
     "output_type": "stream",
     "text": [
      "                  :-) GROMACS - gmx density, 2023-Homebrew (-:\n",
      "\n",
      "Executable:   /opt/homebrew/bin/../Cellar/gromacs/2023/bin/gmx\n",
      "Data prefix:  /opt/homebrew/bin/../Cellar/gromacs/2023\n",
      "Working dir:  /Users/alexey/Dev/MD_conf\n",
      "Command line:\n",
      "  gmx density -f na_diff/angles/gro/cal_15 -s na_diff/angles/tpr/cal_15 -o na_diff/angles/density/density_15 -d Z -sl 100 -dens number -center -ng 1\n",
      "\n",
      "Reading file na_diff/angles/tpr/cal_15.tpr, VERSION 2023-Homebrew (single precision)\n",
      "\n",
      "Note: that the center of mass is calculated inside the box without applying\n",
      "any special periodicity. If necessary, it is your responsibility to first use\n",
      "trjconv to make sure atoms in this group are placed in the right periodicity.\n",
      "\n",
      "Select the group to center density profiles around:\n",
      "Group     0 (         System) has 49872 elements\n",
      "Group     1 (          Other) has 49872 elements\n",
      "Group     2 (           CCAA) has  3840 elements\n",
      "Group     3 (           OCAA) has 11520 elements\n",
      "Group     4 (            CAA) has  3840 elements\n",
      "Group     5 (          DECAN) has  5680 elements\n",
      "Group     6 (          WATER) has 24992 elements\n",
      "Select a group: \n",
      "Select 1 group to calculate density for:\n",
      "Group     0 (         System) has 49872 elements\n",
      "Group     1 (          Other) has 49872 elements\n",
      "Group     2 (           CCAA) has  3840 elements\n",
      "Group     3 (           OCAA) has 11520 elements\n",
      "Group     4 (            CAA) has  3840 elements\n",
      "Group     5 (          DECAN) has  5680 elements\n",
      "Group     6 (          WATER) has 24992 elements\n",
      "Select a group: Reading frames from gro file 'SYSTEM', 49872 atoms.\n",
      "Last frame          0 time    0.000   \n",
      "\n",
      "Read 1 frames from trajectory. Calculating density\n",
      "\n",
      "Back Off! I just backed up na_diff/angles/density/density_15.xvg to na_diff/angles/density/#density_15.xvg.1#\n",
      "\n",
      "GROMACS reminds you: \"Rat-tat-tat Ka boom boom\" (The Smashing Pumpkins)\n",
      "\n",
      "                  :-) GROMACS - gmx density, 2023-Homebrew (-:\n",
      "\n",
      "Executable:   /opt/homebrew/bin/../Cellar/gromacs/2023/bin/gmx\n",
      "Data prefix:  /opt/homebrew/bin/../Cellar/gromacs/2023\n",
      "Working dir:  /Users/alexey/Dev/MD_conf\n",
      "Command line:\n",
      "  gmx density -f na_diff/angles/gro/cal_30 -s na_diff/angles/tpr/cal_30 -o na_diff/angles/density/density_30 -d Z -sl 100 -dens number -center -ng 1\n",
      "\n",
      "Reading file na_diff/angles/tpr/cal_30.tpr, VERSION 2023-Homebrew (single precision)\n",
      "\n",
      "Note: that the center of mass is calculated inside the box without applying\n",
      "any special periodicity. If necessary, it is your responsibility to first use\n",
      "trjconv to make sure atoms in this group are placed in the right periodicity.\n",
      "\n",
      "Select the group to center density profiles around:\n",
      "Group     0 (         System) has 49872 elements\n",
      "Group     1 (          Other) has 49872 elements\n",
      "Group     2 (           CCAA) has  3840 elements\n",
      "Group     3 (           OCAA) has 11520 elements\n",
      "Group     4 (            CAA) has  3840 elements\n",
      "Group     5 (          DECAN) has  5680 elements\n",
      "Group     6 (          WATER) has 24992 elements\n",
      "Select a group: \n",
      "Select 1 group to calculate density for:\n",
      "Group     0 (         System) has 49872 elements\n",
      "Group     1 (          Other) has 49872 elements\n",
      "Group     2 (           CCAA) has  3840 elements\n",
      "Group     3 (           OCAA) has 11520 elements\n",
      "Group     4 (            CAA) has  3840 elements\n",
      "Group     5 (          DECAN) has  5680 elements\n",
      "Group     6 (          WATER) has 24992 elements\n",
      "Select a group: Reading frames from gro file 'SYSTEM', 49872 atoms.\n",
      "Last frame          0 time    0.000   \n",
      "\n",
      "Read 1 frames from trajectory. Calculating density\n",
      "\n",
      "Back Off! I just backed up na_diff/angles/density/density_30.xvg to na_diff/angles/density/#density_30.xvg.1#\n",
      "\n",
      "GROMACS reminds you: \"Rat-tat-tat Ka boom boom\" (The Smashing Pumpkins)\n",
      "\n",
      "                  :-) GROMACS - gmx density, 2023-Homebrew (-:\n",
      "\n",
      "Executable:   /opt/homebrew/bin/../Cellar/gromacs/2023/bin/gmx\n",
      "Data prefix:  /opt/homebrew/bin/../Cellar/gromacs/2023\n",
      "Working dir:  /Users/alexey/Dev/MD_conf\n",
      "Command line:\n",
      "  gmx density -f na_diff/angles/gro/cal_45 -s na_diff/angles/tpr/cal_45 -o na_diff/angles/density/density_45 -d Z -sl 100 -dens number -center -ng 1\n",
      "\n",
      "Reading file na_diff/angles/tpr/cal_45.tpr, VERSION 2023-Homebrew (single precision)\n",
      "\n",
      "Note: that the center of mass is calculated inside the box without applying\n",
      "any special periodicity. If necessary, it is your responsibility to first use\n",
      "trjconv to make sure atoms in this group are placed in the right periodicity.\n",
      "\n",
      "Select the group to center density profiles around:\n",
      "Group     0 (         System) has 49872 elements\n",
      "Group     1 (          Other) has 49872 elements\n",
      "Group     2 (           CCAA) has  3840 elements\n",
      "Group     3 (           OCAA) has 11520 elements\n",
      "Group     4 (            CAA) has  3840 elements\n",
      "Group     5 (          DECAN) has  5680 elements\n",
      "Group     6 (          WATER) has 24992 elements\n",
      "Select a group: \n",
      "Select 1 group to calculate density for:\n",
      "Group     0 (         System) has 49872 elements\n",
      "Group     1 (          Other) has 49872 elements\n",
      "Group     2 (           CCAA) has  3840 elements\n",
      "Group     3 (           OCAA) has 11520 elements\n",
      "Group     4 (            CAA) has  3840 elements\n",
      "Group     5 (          DECAN) has  5680 elements\n",
      "Group     6 (          WATER) has 24992 elements\n",
      "Select a group: Reading frames from gro file 'SYSTEM', 49872 atoms.\n",
      "Last frame          0 time    0.000   \n",
      "\n",
      "Read 1 frames from trajectory. Calculating density\n",
      "\n",
      "Back Off! I just backed up na_diff/angles/density/density_45.xvg to na_diff/angles/density/#density_45.xvg.1#\n",
      "\n",
      "GROMACS reminds you: \"Rat-tat-tat Ka boom boom\" (The Smashing Pumpkins)\n",
      "\n"
     ]
    },
    {
     "name": "stdout",
     "output_type": "stream",
     "text": [
      "Selected 5: 'DECAN'\n",
      "Selected 5: 'DECAN'\n",
      "Selected 5: 'DECAN'\n",
      "Selected 5: 'DECAN'\n",
      "Selected 5: 'DECAN'\n",
      "Selected 5: 'DECAN'\n"
     ]
    },
    {
     "name": "stderr",
     "output_type": "stream",
     "text": [
      "                  :-) GROMACS - gmx density, 2023-Homebrew (-:\n",
      "\n",
      "Executable:   /opt/homebrew/bin/../Cellar/gromacs/2023/bin/gmx\n",
      "Data prefix:  /opt/homebrew/bin/../Cellar/gromacs/2023\n",
      "Working dir:  /Users/alexey/Dev/MD_conf\n",
      "Command line:\n",
      "  gmx density -f na_diff/angles/gro/cal_60 -s na_diff/angles/tpr/cal_60 -o na_diff/angles/density/density_60 -d Z -sl 100 -dens number -center -ng 1\n",
      "\n",
      "Reading file na_diff/angles/tpr/cal_60.tpr, VERSION 2023-Homebrew (single precision)\n",
      "\n",
      "Note: that the center of mass is calculated inside the box without applying\n",
      "any special periodicity. If necessary, it is your responsibility to first use\n",
      "trjconv to make sure atoms in this group are placed in the right periodicity.\n",
      "\n",
      "Select the group to center density profiles around:\n",
      "Group     0 (         System) has 49872 elements\n",
      "Group     1 (          Other) has 49872 elements\n",
      "Group     2 (           CCAA) has  3840 elements\n",
      "Group     3 (           OCAA) has 11520 elements\n",
      "Group     4 (            CAA) has  3840 elements\n",
      "Group     5 (          DECAN) has  5680 elements\n",
      "Group     6 (          WATER) has 24992 elements\n",
      "Select a group: \n",
      "Select 1 group to calculate density for:\n",
      "Group     0 (         System) has 49872 elements\n",
      "Group     1 (          Other) has 49872 elements\n",
      "Group     2 (           CCAA) has  3840 elements\n",
      "Group     3 (           OCAA) has 11520 elements\n",
      "Group     4 (            CAA) has  3840 elements\n",
      "Group     5 (          DECAN) has  5680 elements\n",
      "Group     6 (          WATER) has 24992 elements\n",
      "Select a group: Reading frames from gro file 'SYSTEM', 49872 atoms.\n",
      "Last frame          0 time    0.000   \n",
      "\n",
      "Read 1 frames from trajectory. Calculating density\n",
      "\n",
      "Back Off! I just backed up na_diff/angles/density/density_60.xvg to na_diff/angles/density/#density_60.xvg.1#\n",
      "\n",
      "GROMACS reminds you: \"Rat-tat-tat Ka boom boom\" (The Smashing Pumpkins)\n",
      "\n",
      "                  :-) GROMACS - gmx density, 2023-Homebrew (-:\n",
      "\n",
      "Executable:   /opt/homebrew/bin/../Cellar/gromacs/2023/bin/gmx\n",
      "Data prefix:  /opt/homebrew/bin/../Cellar/gromacs/2023\n",
      "Working dir:  /Users/alexey/Dev/MD_conf\n",
      "Command line:\n",
      "  gmx density -f na_diff/angles/gro/cal_75 -s na_diff/angles/tpr/cal_75 -o na_diff/angles/density/density_75 -d Z -sl 100 -dens number -center -ng 1\n",
      "\n",
      "Reading file na_diff/angles/tpr/cal_75.tpr, VERSION 2023-Homebrew (single precision)\n",
      "\n",
      "Note: that the center of mass is calculated inside the box without applying\n",
      "any special periodicity. If necessary, it is your responsibility to first use\n",
      "trjconv to make sure atoms in this group are placed in the right periodicity.\n",
      "\n",
      "Select the group to center density profiles around:\n",
      "Group     0 (         System) has 49872 elements\n",
      "Group     1 (          Other) has 49872 elements\n",
      "Group     2 (           CCAA) has  3840 elements\n",
      "Group     3 (           OCAA) has 11520 elements\n",
      "Group     4 (            CAA) has  3840 elements\n",
      "Group     5 (          DECAN) has  5680 elements\n",
      "Group     6 (          WATER) has 24992 elements\n",
      "Select a group: \n",
      "Select 1 group to calculate density for:\n",
      "Group     0 (         System) has 49872 elements\n",
      "Group     1 (          Other) has 49872 elements\n",
      "Group     2 (           CCAA) has  3840 elements\n",
      "Group     3 (           OCAA) has 11520 elements\n",
      "Group     4 (            CAA) has  3840 elements\n",
      "Group     5 (          DECAN) has  5680 elements\n",
      "Group     6 (          WATER) has 24992 elements\n",
      "Select a group: Reading frames from gro file 'SYSTEM', 49872 atoms.\n",
      "Last frame          0 time    0.000   \n",
      "\n",
      "Read 1 frames from trajectory. Calculating density\n",
      "\n",
      "Back Off! I just backed up na_diff/angles/density/density_75.xvg to na_diff/angles/density/#density_75.xvg.1#\n",
      "\n",
      "GROMACS reminds you: \"Rat-tat-tat Ka boom boom\" (The Smashing Pumpkins)\n",
      "\n",
      "                  :-) GROMACS - gmx density, 2023-Homebrew (-:\n",
      "\n",
      "Executable:   /opt/homebrew/bin/../Cellar/gromacs/2023/bin/gmx\n",
      "Data prefix:  /opt/homebrew/bin/../Cellar/gromacs/2023\n",
      "Working dir:  /Users/alexey/Dev/MD_conf\n",
      "Command line:\n",
      "  gmx density -f na_diff/angles/gro/cal_90 -s na_diff/angles/tpr/cal_90 -o na_diff/angles/density/density_90 -d Z -sl 100 -dens number -center -ng 1\n",
      "\n",
      "Reading file na_diff/angles/tpr/cal_90.tpr, VERSION 2023-Homebrew (single precision)\n",
      "\n",
      "Note: that the center of mass is calculated inside the box without applying\n",
      "any special periodicity. If necessary, it is your responsibility to first use\n",
      "trjconv to make sure atoms in this group are placed in the right periodicity.\n",
      "\n",
      "Select the group to center density profiles around:\n",
      "Group     0 (         System) has 49872 elements\n",
      "Group     1 (          Other) has 49872 elements\n",
      "Group     2 (           CCAA) has  3840 elements\n",
      "Group     3 (           OCAA) has 11520 elements\n",
      "Group     4 (            CAA) has  3840 elements\n",
      "Group     5 (          DECAN) has  5680 elements\n",
      "Group     6 (          WATER) has 24992 elements\n",
      "Select a group: \n",
      "Select 1 group to calculate density for:\n",
      "Group     0 (         System) has 49872 elements\n",
      "Group     1 (          Other) has 49872 elements\n",
      "Group     2 (           CCAA) has  3840 elements\n",
      "Group     3 (           OCAA) has 11520 elements\n",
      "Group     4 (            CAA) has  3840 elements\n",
      "Group     5 (          DECAN) has  5680 elements\n",
      "Group     6 (          WATER) has 24992 elements\n",
      "Select a group: Reading frames from gro file 'SYSTEM', 49872 atoms.\n",
      "Last frame          0 time    0.000   \n",
      "\n",
      "Read 1 frames from trajectory. Calculating density\n",
      "\n",
      "Back Off! I just backed up na_diff/angles/density/density_90.xvg to na_diff/angles/density/#density_90.xvg.1#\n",
      "\n",
      "GROMACS reminds you: \"Rat-tat-tat Ka boom boom\" (The Smashing Pumpkins)\n",
      "\n"
     ]
    },
    {
     "name": "stdout",
     "output_type": "stream",
     "text": [
      "Selected 5: 'DECAN'\n",
      "Selected 5: 'DECAN'\n",
      "Selected 5: 'DECAN'\n",
      "Selected 5: 'DECAN'\n",
      "Selected 5: 'DECAN'\n",
      "Selected 5: 'DECAN'\n"
     ]
    },
    {
     "name": "stderr",
     "output_type": "stream",
     "text": [
      "                  :-) GROMACS - gmx density, 2023-Homebrew (-:\n",
      "\n",
      "Executable:   /opt/homebrew/bin/../Cellar/gromacs/2023/bin/gmx\n",
      "Data prefix:  /opt/homebrew/bin/../Cellar/gromacs/2023\n",
      "Working dir:  /Users/alexey/Dev/MD_conf\n",
      "Command line:\n",
      "  gmx density -f na_diff/angles/gro/cal_105 -s na_diff/angles/tpr/cal_105 -o na_diff/angles/density/density_105 -d Z -sl 100 -dens number -center -ng 1\n",
      "\n",
      "Reading file na_diff/angles/tpr/cal_105.tpr, VERSION 2023-Homebrew (single precision)\n",
      "\n",
      "Note: that the center of mass is calculated inside the box without applying\n",
      "any special periodicity. If necessary, it is your responsibility to first use\n",
      "trjconv to make sure atoms in this group are placed in the right periodicity.\n",
      "\n",
      "Select the group to center density profiles around:\n",
      "Group     0 (         System) has 49872 elements\n",
      "Group     1 (          Other) has 49872 elements\n",
      "Group     2 (           CCAA) has  3840 elements\n",
      "Group     3 (           OCAA) has 11520 elements\n",
      "Group     4 (            CAA) has  3840 elements\n",
      "Group     5 (          DECAN) has  5680 elements\n",
      "Group     6 (          WATER) has 24992 elements\n",
      "Select a group: \n",
      "Select 1 group to calculate density for:\n",
      "Group     0 (         System) has 49872 elements\n",
      "Group     1 (          Other) has 49872 elements\n",
      "Group     2 (           CCAA) has  3840 elements\n",
      "Group     3 (           OCAA) has 11520 elements\n",
      "Group     4 (            CAA) has  3840 elements\n",
      "Group     5 (          DECAN) has  5680 elements\n",
      "Group     6 (          WATER) has 24992 elements\n",
      "Select a group: Reading frames from gro file 'SYSTEM', 49872 atoms.\n",
      "Last frame          0 time    0.000   \n",
      "\n",
      "Read 1 frames from trajectory. Calculating density\n",
      "\n",
      "Back Off! I just backed up na_diff/angles/density/density_105.xvg to na_diff/angles/density/#density_105.xvg.1#\n",
      "\n",
      "GROMACS reminds you: \"Rat-tat-tat Ka boom boom\" (The Smashing Pumpkins)\n",
      "\n",
      "                  :-) GROMACS - gmx density, 2023-Homebrew (-:\n",
      "\n",
      "Executable:   /opt/homebrew/bin/../Cellar/gromacs/2023/bin/gmx\n",
      "Data prefix:  /opt/homebrew/bin/../Cellar/gromacs/2023\n",
      "Working dir:  /Users/alexey/Dev/MD_conf\n",
      "Command line:\n",
      "  gmx density -f na_diff/angles/gro/cal_120 -s na_diff/angles/tpr/cal_120 -o na_diff/angles/density/density_120 -d Z -sl 100 -dens number -center -ng 1\n",
      "\n",
      "Reading file na_diff/angles/tpr/cal_120.tpr, VERSION 2023-Homebrew (single precision)\n",
      "\n",
      "Note: that the center of mass is calculated inside the box without applying\n",
      "any special periodicity. If necessary, it is your responsibility to first use\n",
      "trjconv to make sure atoms in this group are placed in the right periodicity.\n",
      "\n",
      "Select the group to center density profiles around:\n",
      "Group     0 (         System) has 49872 elements\n",
      "Group     1 (          Other) has 49872 elements\n",
      "Group     2 (           CCAA) has  3840 elements\n",
      "Group     3 (           OCAA) has 11520 elements\n",
      "Group     4 (            CAA) has  3840 elements\n",
      "Group     5 (          DECAN) has  5680 elements\n",
      "Group     6 (          WATER) has 24992 elements\n",
      "Select a group: \n",
      "Select 1 group to calculate density for:\n",
      "Group     0 (         System) has 49872 elements\n",
      "Group     1 (          Other) has 49872 elements\n",
      "Group     2 (           CCAA) has  3840 elements\n",
      "Group     3 (           OCAA) has 11520 elements\n",
      "Group     4 (            CAA) has  3840 elements\n",
      "Group     5 (          DECAN) has  5680 elements\n",
      "Group     6 (          WATER) has 24992 elements\n",
      "Select a group: Reading frames from gro file 'SYSTEM', 49872 atoms.\n",
      "Last frame          0 time    0.000   \n",
      "\n",
      "Read 1 frames from trajectory. Calculating density\n",
      "\n",
      "Back Off! I just backed up na_diff/angles/density/density_120.xvg to na_diff/angles/density/#density_120.xvg.1#\n",
      "\n",
      "GROMACS reminds you: \"Rat-tat-tat Ka boom boom\" (The Smashing Pumpkins)\n",
      "\n",
      "                  :-) GROMACS - gmx density, 2023-Homebrew (-:\n",
      "\n",
      "Executable:   /opt/homebrew/bin/../Cellar/gromacs/2023/bin/gmx\n",
      "Data prefix:  /opt/homebrew/bin/../Cellar/gromacs/2023\n",
      "Working dir:  /Users/alexey/Dev/MD_conf\n",
      "Command line:\n",
      "  gmx density -f na_diff/angles/gro/cal_135 -s na_diff/angles/tpr/cal_135 -o na_diff/angles/density/density_135 -d Z -sl 100 -dens number -center -ng 1\n",
      "\n",
      "Reading file na_diff/angles/tpr/cal_135.tpr, VERSION 2023-Homebrew (single precision)\n",
      "\n",
      "Note: that the center of mass is calculated inside the box without applying\n",
      "any special periodicity. If necessary, it is your responsibility to first use\n",
      "trjconv to make sure atoms in this group are placed in the right periodicity.\n",
      "\n",
      "Select the group to center density profiles around:\n",
      "Group     0 (         System) has 49872 elements\n",
      "Group     1 (          Other) has 49872 elements\n",
      "Group     2 (           CCAA) has  3840 elements\n",
      "Group     3 (           OCAA) has 11520 elements\n",
      "Group     4 (            CAA) has  3840 elements\n",
      "Group     5 (          DECAN) has  5680 elements\n",
      "Group     6 (          WATER) has 24992 elements\n",
      "Select a group: \n",
      "Select 1 group to calculate density for:\n",
      "Group     0 (         System) has 49872 elements\n",
      "Group     1 (          Other) has 49872 elements\n",
      "Group     2 (           CCAA) has  3840 elements\n",
      "Group     3 (           OCAA) has 11520 elements\n",
      "Group     4 (            CAA) has  3840 elements\n",
      "Group     5 (          DECAN) has  5680 elements\n",
      "Group     6 (          WATER) has 24992 elements\n",
      "Select a group: Reading frames from gro file 'SYSTEM', 49872 atoms.\n",
      "Last frame          0 time    0.000   \n",
      "\n",
      "Read 1 frames from trajectory. Calculating density\n",
      "\n",
      "Back Off! I just backed up na_diff/angles/density/density_135.xvg to na_diff/angles/density/#density_135.xvg.1#\n",
      "\n",
      "GROMACS reminds you: \"Rat-tat-tat Ka boom boom\" (The Smashing Pumpkins)\n",
      "\n"
     ]
    },
    {
     "name": "stdout",
     "output_type": "stream",
     "text": [
      "Selected 5: 'DECAN'\n",
      "Selected 5: 'DECAN'\n",
      "Selected 5: 'DECAN'\n",
      "Selected 5: 'DECAN'\n",
      "Selected 5: 'DECAN'\n",
      "Selected 5: 'DECAN'\n",
      "Selected 5: 'DECAN'\n",
      "Selected 5: 'DECAN'\n",
      "Selected 5: 'DECAN'\n",
      "Selected 5: 'DECAN'\n"
     ]
    },
    {
     "name": "stderr",
     "output_type": "stream",
     "text": [
      "                  :-) GROMACS - gmx density, 2023-Homebrew (-:\n",
      "\n",
      "Executable:   /opt/homebrew/bin/../Cellar/gromacs/2023/bin/gmx\n",
      "Data prefix:  /opt/homebrew/bin/../Cellar/gromacs/2023\n",
      "Working dir:  /Users/alexey/Dev/MD_conf\n",
      "Command line:\n",
      "  gmx density -f na_diff/angles/gro/cal_150 -s na_diff/angles/tpr/cal_150 -o na_diff/angles/density/density_150 -d Z -sl 100 -dens number -center -ng 1\n",
      "\n",
      "Reading file na_diff/angles/tpr/cal_150.tpr, VERSION 2023-Homebrew (single precision)\n",
      "\n",
      "Note: that the center of mass is calculated inside the box without applying\n",
      "any special periodicity. If necessary, it is your responsibility to first use\n",
      "trjconv to make sure atoms in this group are placed in the right periodicity.\n",
      "\n",
      "Select the group to center density profiles around:\n",
      "Group     0 (         System) has 49872 elements\n",
      "Group     1 (          Other) has 49872 elements\n",
      "Group     2 (           CCAA) has  3840 elements\n",
      "Group     3 (           OCAA) has 11520 elements\n",
      "Group     4 (            CAA) has  3840 elements\n",
      "Group     5 (          DECAN) has  5680 elements\n",
      "Group     6 (          WATER) has 24992 elements\n",
      "Select a group: \n",
      "Select 1 group to calculate density for:\n",
      "Group     0 (         System) has 49872 elements\n",
      "Group     1 (          Other) has 49872 elements\n",
      "Group     2 (           CCAA) has  3840 elements\n",
      "Group     3 (           OCAA) has 11520 elements\n",
      "Group     4 (            CAA) has  3840 elements\n",
      "Group     5 (          DECAN) has  5680 elements\n",
      "Group     6 (          WATER) has 24992 elements\n",
      "Select a group: Reading frames from gro file 'SYSTEM', 49872 atoms.\n",
      "Last frame          0 time    0.000   \n",
      "\n",
      "Read 1 frames from trajectory. Calculating density\n",
      "\n",
      "Back Off! I just backed up na_diff/angles/density/density_150.xvg to na_diff/angles/density/#density_150.xvg.1#\n",
      "\n",
      "GROMACS reminds you: \"Rat-tat-tat Ka boom boom\" (The Smashing Pumpkins)\n",
      "\n",
      "                  :-) GROMACS - gmx density, 2023-Homebrew (-:\n",
      "\n",
      "Executable:   /opt/homebrew/bin/../Cellar/gromacs/2023/bin/gmx\n",
      "Data prefix:  /opt/homebrew/bin/../Cellar/gromacs/2023\n",
      "Working dir:  /Users/alexey/Dev/MD_conf\n",
      "Command line:\n",
      "  gmx density -f na_diff/angles/gro/cal_165 -s na_diff/angles/tpr/cal_165 -o na_diff/angles/density/density_165 -d Z -sl 100 -dens number -center -ng 1\n",
      "\n",
      "Reading file na_diff/angles/tpr/cal_165.tpr, VERSION 2023-Homebrew (single precision)\n",
      "\n",
      "Note: that the center of mass is calculated inside the box without applying\n",
      "any special periodicity. If necessary, it is your responsibility to first use\n",
      "trjconv to make sure atoms in this group are placed in the right periodicity.\n",
      "\n",
      "Select the group to center density profiles around:\n",
      "Group     0 (         System) has 49872 elements\n",
      "Group     1 (          Other) has 49872 elements\n",
      "Group     2 (           CCAA) has  3840 elements\n",
      "Group     3 (           OCAA) has 11520 elements\n",
      "Group     4 (            CAA) has  3840 elements\n",
      "Group     5 (          DECAN) has  5680 elements\n",
      "Group     6 (          WATER) has 24992 elements\n",
      "Select a group: \n",
      "Select 1 group to calculate density for:\n",
      "Group     0 (         System) has 49872 elements\n",
      "Group     1 (          Other) has 49872 elements\n",
      "Group     2 (           CCAA) has  3840 elements\n",
      "Group     3 (           OCAA) has 11520 elements\n",
      "Group     4 (            CAA) has  3840 elements\n",
      "Group     5 (          DECAN) has  5680 elements\n",
      "Group     6 (          WATER) has 24992 elements\n",
      "Select a group: Reading frames from gro file 'SYSTEM', 49872 atoms.\n",
      "Last frame          0 time    0.000   \n",
      "\n",
      "Read 1 frames from trajectory. Calculating density\n",
      "\n",
      "Back Off! I just backed up na_diff/angles/density/density_165.xvg to na_diff/angles/density/#density_165.xvg.1#\n",
      "\n",
      "GROMACS reminds you: \"You could give Aristotle a tutorial. And you could thrill him to the core of his being. Such is the privilege of living after Newton, Darwin, Einstein, Planck, Watson, Crick and their colleagues.\" (Richard Dawkins)\n",
      "\n"
     ]
    },
    {
     "data": {
      "text/plain": [
       "0"
      ]
     },
     "execution_count": 11,
     "metadata": {},
     "output_type": "execute_result"
    }
   ],
   "source": [
    "folder = 'na_diff/angles'\n",
    "for angle in range(15, 166, 15):\n",
    "    # os.system(f'python CAL_segm.py 3.928 0.5 {angle} cal_104_double')\n",
    "    # os.system(f'gmx grompp -f {folder}/nvt_cal_steep.mdp -c {folder}/cal_{angle} -p {folder}/trappe -o {folder}/cal_{angle} -maxwarn 10 ')\n",
    "    os.system(f'echo 5 5 | gmx density -f {folder}/gro/cal_{angle} -s {folder}/tpr/cal_{angle} -o {folder}/density/density_{angle} -d Z -sl 100 -dens number -center -ng 1')\n",
    "os.system(f'rm {folder}/density/#*#')"
   ]
  },
  {
   "cell_type": "code",
   "execution_count": null,
   "metadata": {},
   "outputs": [],
   "source": []
  }
 ],
 "metadata": {
  "kernelspec": {
   "display_name": ".venv",
   "language": "python",
   "name": "python3"
  },
  "language_info": {
   "codemirror_mode": {
    "name": "ipython",
    "version": 3
   },
   "file_extension": ".py",
   "mimetype": "text/x-python",
   "name": "python",
   "nbconvert_exporter": "python",
   "pygments_lexer": "ipython3",
   "version": "3.9.6"
  },
  "orig_nbformat": 4
 },
 "nbformat": 4,
 "nbformat_minor": 2
}
