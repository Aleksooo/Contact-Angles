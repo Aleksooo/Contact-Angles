{
 "cells": [
  {
   "cell_type": "code",
   "execution_count": 401,
   "metadata": {},
   "outputs": [],
   "source": [
    "from dataclasses import dataclass, field\n",
    "import numpy as np\n",
    "from tqdm import tqdm\n",
    "from CifFile import ReadCif\n",
    "from src.utils_py.gro.Structure import Structure\n",
    "from src.utils_py.gro.Atom import Atom\n",
    "from src.utils_py.io.gro import write_gro, read_gro\n",
    "from src.utils_py.assembler.pbc import apply_pbc_to_points\n",
    "from collections import defaultdict\n",
    "import os"
   ]
  },
  {
   "cell_type": "code",
   "execution_count": 78,
   "metadata": {},
   "outputs": [],
   "source": [
    "cf = ReadCif('CaCO3.cif')"
   ]
  },
  {
   "cell_type": "code",
   "execution_count": 79,
   "metadata": {},
   "outputs": [
    {
     "name": "stdout",
     "output_type": "stream",
     "text": [
      "caco3\n"
     ]
    }
   ],
   "source": [
    "for key in cf.keys():\n",
    "    print(key)"
   ]
  },
  {
   "attachments": {},
   "cell_type": "markdown",
   "metadata": {},
   "source": [
    "---"
   ]
  },
  {
   "attachments": {},
   "cell_type": "markdown",
   "metadata": {},
   "source": [
    "# Полный цикл создания подложки"
   ]
  },
  {
   "cell_type": "code",
   "execution_count": 565,
   "metadata": {},
   "outputs": [],
   "source": [
    "folder = 'cal_104_fixed'\n",
    "l = np.array([100.13602, 15.02040, 101.94077]) * 0.1 # nm\n",
    "angle = np.array([90, 90, 120])"
   ]
  },
  {
   "cell_type": "code",
   "execution_count": 403,
   "metadata": {},
   "outputs": [
    {
     "name": "stdout",
     "output_type": "stream",
     "text": [
      "Note that major changes are planned in future for editconf, to improve usability and utility.\n",
      "Read 17900 atoms\n",
      "No velocities found\n",
      "    system size : 11.523  2.103 10.477 (nm)\n",
      "    center      :  4.631  0.650  5.097 (nm)\n",
      "    box vectors :  0.000  0.000  0.000 (nm)\n",
      "    box angles  :   0.00   0.00   0.00 (degrees)\n",
      "    box volume  :   0.00               (nm^3)\n",
      "    shift       :  0.000 -0.000 -0.000 (nm)\n",
      "new center      :  4.631  0.650  5.097 (nm)\n",
      "new box vectors : 10.014  1.502 10.194 (nm)\n",
      "new box angles  :  90.00  90.00 120.00 (degrees)\n",
      "new box volume  : 132.79               (nm^3)\n"
     ]
    },
    {
     "name": "stderr",
     "output_type": "stream",
     "text": [
      "                 :-) GROMACS - gmx editconf, 2023-Homebrew (-:\n",
      "\n",
      "Executable:   /opt/homebrew/bin/../Cellar/gromacs/2023/bin/gmx\n",
      "Data prefix:  /opt/homebrew/bin/../Cellar/gromacs/2023\n",
      "Working dir:  /Users/alexey/Dev/MD_conf\n",
      "Command line:\n",
      "  gmx editconf -f xz_thin/CaCO3_substrate.pdb -box 10.013602 1.50204 10.194077 -angles 90 90 120 -o xz_thin/CaCO3_substrate_init.gro\n",
      "\n",
      "WARNING: all CONECT records are ignored\n",
      "\n",
      "GROMACS reminds you: \"Religion is a culture of faith; science is a culture of doubt.\" (Richard Feynman)\n",
      "\n"
     ]
    },
    {
     "data": {
      "text/plain": [
       "0"
      ]
     },
     "execution_count": 403,
     "metadata": {},
     "output_type": "execute_result"
    }
   ],
   "source": [
    "os.system(f'gmx editconf -f {folder}/CaCO3_substrate.pdb -box {l[0]} {l[1]} {l[2]} -angles 90 90 120 -o {folder}/CaCO3_substrate_init.gro')"
   ]
  },
  {
   "cell_type": "code",
   "execution_count": 488,
   "metadata": {},
   "outputs": [
    {
     "name": "stdout",
     "output_type": "stream",
     "text": [
      "Note that major changes are planned in future for editconf, to improve usability and utility.\n",
      "Read 9648 atoms\n",
      "No velocities found\n",
      "\n",
      "WARNING: Empty diagonal for a 3-dimensional periodic box\n",
      "See the GROMACS manual for a description of the requirements that\n",
      "must be satisfied by descriptions of simulation cells.\n"
     ]
    },
    {
     "name": "stderr",
     "output_type": "stream",
     "text": [
      "                 :-) GROMACS - gmx editconf, 2023-Homebrew (-:\n",
      "\n",
      "Executable:   /opt/homebrew/bin/../Cellar/gromacs/2023/bin/gmx\n",
      "Data prefix:  /opt/homebrew/bin/../Cellar/gromacs/2023\n",
      "Working dir:  /Users/alexey/Dev/MD_conf\n",
      "Command line:\n",
      "  gmx editconf -f cal_104_fixed/CaCO3_substrate.pdb -o cal_104_fixed/CaCO3_substrate_init.gro\n",
      "\n",
      "\n",
      "GROMACS reminds you: \"Enthusiasm is the mother of effort, and without it nothing great was ever achieved.\" (Ralph Waldo Emerson)\n",
      "\n"
     ]
    },
    {
     "data": {
      "text/plain": [
       "0"
      ]
     },
     "execution_count": 488,
     "metadata": {},
     "output_type": "execute_result"
    }
   ],
   "source": [
    "os.system(f'gmx editconf -f {folder}/CaCO3_substrate.pdb -o {folder}/CaCO3_substrate_init.gro')"
   ]
  },
  {
   "cell_type": "code",
   "execution_count": 512,
   "metadata": {},
   "outputs": [],
   "source": [
    "# struct = read_gro(f'{folder}/CaCO3_substrate_init.gro')\n",
    "struct = read_gro(f'{folder}/CaCO3_cell.gro')"
   ]
  },
  {
   "cell_type": "code",
   "execution_count": 513,
   "metadata": {},
   "outputs": [],
   "source": [
    "for atom in struct.atoms:\n",
    "    atom.mol_id = 1\n",
    "    if atom.name[0:2] == 'Ca':\n",
    "        atom.name = 'Ca'\n",
    "        atom.mol_name = 'Caa'\n",
    "    elif atom.name[0] == 'C':\n",
    "        atom.name = 'CCa'\n",
    "        atom.mol_name = 'CCaa'\n",
    "    elif atom.name[0] == 'O':\n",
    "        atom.name = 'OCa'\n",
    "        atom.mol_name = 'OCaa'\n"
   ]
  },
  {
   "cell_type": "code",
   "execution_count": 514,
   "metadata": {},
   "outputs": [],
   "source": [
    "struct.box = np.array([struct.box[0], struct.box[1], np.max([a.xyz[2] for a in struct.atoms])])"
   ]
  },
  {
   "cell_type": "code",
   "execution_count": 515,
   "metadata": {},
   "outputs": [],
   "source": [
    "with open(f'{folder}/CaCO3_cell.gro', 'w') as f:\n",
    "    f.write(write_gro(struct))"
   ]
  },
  {
   "cell_type": "code",
   "execution_count": 501,
   "metadata": {},
   "outputs": [],
   "source": [
    "struct = read_gro(f'{folder}/CaCO3_cell.gro')"
   ]
  },
  {
   "cell_type": "code",
   "execution_count": 471,
   "metadata": {},
   "outputs": [],
   "source": [
    "new_struct = Structure(box=struct.box)\n",
    "id = 1\n",
    "for atom in struct.atoms:\n",
    "   if (atom.xyz[0] == 10.0 and atom.name == 'CCa'):\n",
    "      continue\n",
    "   new_atom = atom.copy()\n",
    "   new_atom.id = id\n",
    "   id += 1\n",
    "   new_struct.atoms.append(new_atom)\n",
    "     "
   ]
  },
  {
   "cell_type": "code",
   "execution_count": 504,
   "metadata": {},
   "outputs": [
    {
     "data": {
      "text/plain": [
       "array([10.002368,  9.63772 ,  1.079   ])"
      ]
     },
     "execution_count": 504,
     "metadata": {},
     "output_type": "execute_result"
    }
   ],
   "source": [
    "struct.box = np.array([10.002368, 9.637720, np.max([a.xyz[2] for a in struct.atoms])])\n",
    "\n",
    "struct.box"
   ]
  },
  {
   "cell_type": "code",
   "execution_count": 492,
   "metadata": {},
   "outputs": [],
   "source": [
    "with open(f'{folder}/CaCO3_substrate.gro', 'w') as f:\n",
    "    f.write(write_gro(struct))"
   ]
  },
  {
   "cell_type": "code",
   "execution_count": 415,
   "metadata": {},
   "outputs": [],
   "source": [
    "H = np.array([\n",
    "    [1, 0, 0],\n",
    "    [-1 / np.tan(np.deg2rad(angle[2])), 1 / np.sin(np.deg2rad(angle[2])), 0],\n",
    "    [0, 0, 1]\n",
    "])\n",
    "\n",
    "struct = read_gro(f'{folder}/CaCO3_substrate_init.gro')\n",
    "new_struct = Structure(box=np.array([struct.box[0], struct.box[2], struct.box[1]]))\n",
    "id = 1\n",
    "\n",
    "max = 0\n",
    "\n",
    "for atom in struct.atoms:\n",
    "    if np.any(np.abs(atom.xyz @ H - l / 2 - 0.01) >= l / 2):\n",
    "        continue\n",
    "    new_atom = atom.copy()\n",
    "    new_atom.id = id\n",
    "    new_atom.xyz = np.array([new_atom.xyz[0], new_atom.xyz[2], new_atom.xyz[1]])\n",
    "    id += 1\n",
    "    new_struct.atoms.append(new_atom)"
   ]
  },
  {
   "cell_type": "code",
   "execution_count": 416,
   "metadata": {},
   "outputs": [],
   "source": [
    "with open(f'{folder}/CaCO3_substrate_pbc.gro', 'w') as f:\n",
    "    f.write(write_gro(new_struct.apply_pbc()))"
   ]
  },
  {
   "cell_type": "code",
   "execution_count": 566,
   "metadata": {},
   "outputs": [],
   "source": [
    "struct = read_gro(f'{folder}/CaCO3_substrate.gro')"
   ]
  },
  {
   "cell_type": "code",
   "execution_count": 567,
   "metadata": {},
   "outputs": [
    {
     "data": {
      "text/plain": [
       "'cal_104_fixed'"
      ]
     },
     "execution_count": 567,
     "metadata": {},
     "output_type": "execute_result"
    }
   ],
   "source": [
    "folder"
   ]
  },
  {
   "cell_type": "code",
   "execution_count": 568,
   "metadata": {},
   "outputs": [
    {
     "data": {
      "text/plain": [
       "0"
      ]
     },
     "execution_count": 568,
     "metadata": {},
     "output_type": "execute_result"
    }
   ],
   "source": [
    "names = defaultdict(int)\n",
    "for atom in struct.atoms:\n",
    "    names[atom.mol_name] += 1\n",
    "\n",
    "with open(f'{folder}/calmol.itp', 'w') as f:\n",
    "    for key, val in names.items():\n",
    "        f.write(f'{key}\\t{val}\\n')\n",
    "\n",
    "os.system(f'cp {folder}/CaCO3_substrate.gro {folder}/cal.gro')"
   ]
  },
  {
   "cell_type": "code",
   "execution_count": 569,
   "metadata": {},
   "outputs": [
    {
     "data": {
      "text/plain": [
       "dict_keys(['CCaa', 'OCaa', 'Caa'])"
      ]
     },
     "execution_count": 569,
     "metadata": {},
     "output_type": "execute_result"
    }
   ],
   "source": [
    "names.keys()"
   ]
  },
  {
   "cell_type": "code",
   "execution_count": 570,
   "metadata": {},
   "outputs": [],
   "source": [
    "new_struct = Structure(box=struct.box)\n",
    "id = 1\n",
    "for key in names.keys():\n",
    "    for a in struct.atoms:\n",
    "        if a.mol_name == key:\n",
    "            new_atom = a.copy()\n",
    "            new_atom.id = id\n",
    "            id += 1\n",
    "            new_struct.atoms.append(new_atom)\n",
    "        \n",
    "\n",
    "with open(f'{folder}/cal.gro', 'w') as f:\n",
    "    f.write(write_gro(new_struct))"
   ]
  },
  {
   "attachments": {},
   "cell_type": "markdown",
   "metadata": {},
   "source": [
    "---"
   ]
  },
  {
   "cell_type": "code",
   "execution_count": 483,
   "metadata": {},
   "outputs": [
    {
     "data": {
      "text/plain": [
       "3.9280180000000002"
      ]
     },
     "execution_count": 483,
     "metadata": {},
     "output_type": "execute_result"
    }
   ],
   "source": [
    "(10.00237 + 9.63772) / 2 / 2.5"
   ]
  },
  {
   "cell_type": "code",
   "execution_count": 394,
   "metadata": {},
   "outputs": [
    {
     "data": {
      "text/plain": [
       "1.3008051300541332"
      ]
     },
     "execution_count": 394,
     "metadata": {},
     "output_type": "execute_result"
    }
   ],
   "source": [
    "3* 0.500680128 * np.sin(np.deg2rad(angle[2]))"
   ]
  },
  {
   "cell_type": "code",
   "execution_count": 318,
   "metadata": {},
   "outputs": [
    {
     "data": {
      "text/plain": [
       "5.885770877569438"
      ]
     },
     "execution_count": 318,
     "metadata": {},
     "output_type": "execute_result"
    }
   ],
   "source": [
    "10 / 1.699012790"
   ]
  },
  {
   "cell_type": "code",
   "execution_count": 233,
   "metadata": {},
   "outputs": [
    {
     "data": {
      "text/plain": [
       "array([ 5.677585  , 10.01359771,  3.39803   ])"
      ]
     },
     "execution_count": 233,
     "metadata": {},
     "output_type": "execute_result"
    }
   ],
   "source": [
    "struct.box @ H"
   ]
  },
  {
   "cell_type": "code",
   "execution_count": 275,
   "metadata": {},
   "outputs": [
    {
     "data": {
      "text/plain": [
       "array([15.02039885, 10.01359771,  3.39803   ])"
      ]
     },
     "execution_count": 275,
     "metadata": {},
     "output_type": "execute_result"
    }
   ],
   "source": [
    "H = np.array([\n",
    "    [1, 0, 0],\n",
    "    [-1 / np.tan(np.deg2rad(angle[2])), 1 / np.sin(np.deg2rad(angle[2])), 0],\n",
    "    [0, 0, 1]\n",
    "])\n",
    "\n",
    "np.matmul(struct.box, H)"
   ]
  },
  {
   "cell_type": "code",
   "execution_count": 88,
   "metadata": {},
   "outputs": [],
   "source": [
    "struct.box = np.array([10.013602, 10.013602 * np.sin(np.deg2rad(120)), 3.398026])"
   ]
  },
  {
   "cell_type": "code",
   "execution_count": 90,
   "metadata": {},
   "outputs": [],
   "source": [
    "struct = struct.apply_pbc()"
   ]
  },
  {
   "cell_type": "code",
   "execution_count": 302,
   "metadata": {},
   "outputs": [],
   "source": [
    "angle = np.array(list(map(float, [cf['caco3']['_cell_angle_alpha'], cf['caco3']['_cell_angle_beta'], cf['caco3']['_cell_angle_gamma']])))\n",
    "length = np.array(list(map(float, [cf['caco3']['_cell_length_a'], cf['caco3']['_cell_length_b'], cf['caco3']['_cell_length_c']]))) * 0.1\n",
    "\n",
    "bais_x = np.array([1, 0, 0]) * length[0]\n",
    "bais_y = np.array([np.cos(np.deg2rad(angle[2])), np.sin(np.deg2rad(angle[2])), 0]) * length[1]\n",
    "bais_z = np.array([0, 0, 1]) * length[2]"
   ]
  },
  {
   "cell_type": "code",
   "execution_count": 337,
   "metadata": {},
   "outputs": [],
   "source": [
    "struct = read_gro('xz/CaCO3_substrate_pbc.gro')"
   ]
  },
  {
   "cell_type": "code",
   "execution_count": 339,
   "metadata": {},
   "outputs": [],
   "source": [
    "for atom in struct.atoms:\n",
    "    atom.xyz = np.array([atom.xyz[0], atom.xyz[2], atom.xyz[1]])\n",
    "\n",
    "struct.box = np.array([struct.box[0], struct.box[2], struct.box[1]])"
   ]
  },
  {
   "cell_type": "code",
   "execution_count": 340,
   "metadata": {},
   "outputs": [],
   "source": [
    "with open('xz/CaCO3_substrate_pbc.gro', 'w') as f:\n",
    "    f.write(write_gro(struct))"
   ]
  },
  {
   "attachments": {},
   "cell_type": "markdown",
   "metadata": {},
   "source": [
    "---"
   ]
  },
  {
   "attachments": {},
   "cell_type": "markdown",
   "metadata": {},
   "source": [
    "### Генерируем .itp для запуска"
   ]
  },
  {
   "cell_type": "code",
   "execution_count": 334,
   "metadata": {},
   "outputs": [],
   "source": [
    "struct = read_gro('xz/CaCO3_substrate_pbc.gro')\n",
    "\n",
    "names = defaultdict(int)\n",
    "for atom in struct.atoms:\n",
    "    names[atom.mol_name] += 1\n",
    "\n",
    "with open('xz/calmol.itp', 'w') as f:\n",
    "    for key, val in names.items():\n",
    "        f.write(f'{key}\\t{val}\\n')"
   ]
  },
  {
   "cell_type": "code",
   "execution_count": 336,
   "metadata": {},
   "outputs": [
    {
     "data": {
      "text/plain": [
       "4.041536"
      ]
     },
     "execution_count": 336,
     "metadata": {},
     "output_type": "execute_result"
    }
   ],
   "source": [
    "(10.01360 + 10.19408) / 2 / 2.5"
   ]
  },
  {
   "attachments": {},
   "cell_type": "markdown",
   "metadata": {},
   "source": [
    "---"
   ]
  },
  {
   "attachments": {},
   "cell_type": "markdown",
   "metadata": {},
   "source": [
    "### Выравниваем заряд"
   ]
  },
  {
   "cell_type": "code",
   "execution_count": 534,
   "metadata": {},
   "outputs": [
    {
     "name": "stdout",
     "output_type": "stream",
     "text": [
      "3.072\n",
      "-0.88926667\n",
      "-3.5522462e-05\n"
     ]
    }
   ],
   "source": [
    "CCaa =\t3840\n",
    "OCaa =\t11520\n",
    "Caa\t =  3840\n",
    "\n",
    "Caa_charge = 1.6689\n",
    "CCaa_charge = 0.9989\n",
    "OCaa_charge = -0.889\n",
    "\n",
    "print(np.float32(Caa_charge*Caa + CCaa_charge*CCaa + OCaa_charge*OCaa))\n",
    "\n",
    "charge = np.float32(-(Caa_charge*Caa + CCaa_charge*CCaa) / OCaa)\n",
    "print(charge)\n",
    "\n",
    "print(np.float32(Caa_charge*Caa + CCaa_charge*CCaa + charge*OCaa))"
   ]
  },
  {
   "attachments": {},
   "cell_type": "markdown",
   "metadata": {},
   "source": [
    "---"
   ]
  },
  {
   "cell_type": "code",
   "execution_count": 523,
   "metadata": {},
   "outputs": [],
   "source": [
    "struct = read_gro('cal_104_fixed/CaCO3_cell.gro')\n",
    "\n",
    "for a in struct.atoms:\n",
    "    a.xyz[2] -= 0.09\n",
    "\n",
    "with open('cal_104_fixed/CaCO3_cell.gro', 'w') as f:\n",
    "    f.write(write_gro(struct))"
   ]
  },
  {
   "cell_type": "code",
   "execution_count": null,
   "metadata": {},
   "outputs": [],
   "source": []
  }
 ],
 "metadata": {
  "kernelspec": {
   "display_name": ".venv",
   "language": "python",
   "name": "python3"
  },
  "language_info": {
   "codemirror_mode": {
    "name": "ipython",
    "version": 3
   },
   "file_extension": ".py",
   "mimetype": "text/x-python",
   "name": "python",
   "nbconvert_exporter": "python",
   "pygments_lexer": "ipython3",
   "version": "3.9.6"
  },
  "orig_nbformat": 4
 },
 "nbformat": 4,
 "nbformat_minor": 2
}
