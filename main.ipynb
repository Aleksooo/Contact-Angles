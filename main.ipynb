{
 "cells": [
  {
   "cell_type": "code",
   "execution_count": 2,
   "metadata": {},
   "outputs": [],
   "source": [
    "import groio, rdkit\n",
    "import numpy as np\n",
    "from tqdm import tqdm\n",
    "import sys\n",
    "# sys.path.append('/home/kopanichuk/data/autopsist/utils')\n",
    "from src.utils.io.gro import read_gro, write_gro\n",
    "from src.utils.gro.Structure import Structure\n",
    "from src.utils.gro.Atom import Atom\n",
    "from src.utils.geom.AntiSphere import AntiSphere\n",
    "from src.utils.geom.Sphere import Sphere\n",
    "from src.utils.assembler.insert import insert_com_into_shape, find_position\n",
    "from src.utils.assembler.push import push_atoms_apart"
   ]
  },
  {
   "cell_type": "code",
   "execution_count": 8,
   "metadata": {},
   "outputs": [],
   "source": [
    "dir_gro = 'ff/gromos/gro/'"
   ]
  },
  {
   "cell_type": "code",
   "execution_count": 6,
   "metadata": {},
   "outputs": [],
   "source": [
    "''' ПАРАМЕТРЫ НЕ ТРОГАТЬ!!! '''\n",
    "\n",
    "insertion_limit = int(1e5)\n",
    "rotation_limit = 10\n",
    "package = 0.4\n",
    "distance = {'min': 0.08**2, 'opt': 0.12**2}"
   ]
  },
  {
   "cell_type": "code",
   "execution_count": 9,
   "metadata": {},
   "outputs": [
    {
     "name": "stdout",
     "output_type": "stream",
     "text": [
      "{'decane': 12, 'spce': 753}\n"
     ]
    },
    {
     "name": "stderr",
     "output_type": "stream",
     "text": [
      "100%|██████████| 12/12 [00:00<00:00, 801.65it/s]\n",
      "100%|██████████| 753/753 [00:03<00:00, 227.59it/s] \n"
     ]
    }
   ],
   "source": [
    "system_size = np.full(3, 3.0) # nm\n",
    "structure = Structure(box=system_size, atoms=[])\n",
    "names = ['decane', 'spce']\n",
    "density = dict(zip(names, [28/10, 33])) # nm-3\n",
    "shapes = dict(zip(names, [\n",
    "    Sphere(center=structure.get_center(), radius=1.0), \n",
    "    AntiSphere(center=structure.get_center(), radius=1.0, borders=structure.box)\n",
    "]))\n",
    "numbers = dict(zip(names, np.round([shapes[name].get_volume()*density[name] for name in names]).astype(int)))\n",
    "print(numbers)\n",
    "coms = []\n",
    "for name in names:\n",
    "    mol = read_gro(f'{dir_gro}{name}.gro').center_atoms_to_zero()\n",
    "    mol_size = np.max(np.linalg.norm(mol.get_XYZ(), axis=1))    \n",
    "    for mol_idx in tqdm(range(numbers[name])):\n",
    "        new_com = insert_com_into_shape(\n",
    "            insertion_limit, mol_idx, mol_size, \n",
    "            system_size, package, coms, shapes[name])\n",
    "        coms.append(new_com)\n",
    "        new_mol = find_position(rotation_limit, distance['min'], structure, new_com, mol)\n",
    "        for atom in new_mol.atoms:\n",
    "            new_atom = atom.copy()\n",
    "            new_atom.idx = len(structure.atoms) + 1\n",
    "            new_atom.mol_idx = len(coms) + 1\n",
    "            structure.atoms.append(new_atom)"
   ]
  },
  {
   "cell_type": "code",
   "execution_count": 10,
   "metadata": {},
   "outputs": [
    {
     "name": "stdout",
     "output_type": "stream",
     "text": [
      "Iteration 1\n"
     ]
    },
    {
     "name": "stderr",
     "output_type": "stream",
     "text": [
      "Atoms: 100%|██████████| 2379/2379 [01:05<00:00, 36.25it/s] "
     ]
    },
    {
     "name": "stdout",
     "output_type": "stream",
     "text": [
      "0 overlaps detected\n"
     ]
    },
    {
     "name": "stderr",
     "output_type": "stream",
     "text": [
      "\n"
     ]
    }
   ],
   "source": [
    "structure = push_atoms_apart(structure, distance['min'], distance['opt'])"
   ]
  },
  {
   "cell_type": "code",
   "execution_count": 11,
   "metadata": {},
   "outputs": [],
   "source": [
    "with open(f'na_diff/decwat/decane_water.gro', 'w') as f:\n",
    "    f.write(write_gro(structure))"
   ]
  },
  {
   "cell_type": "code",
   "execution_count": null,
   "metadata": {},
   "outputs": [],
   "source": []
  }
 ],
 "metadata": {
  "kernelspec": {
   "display_name": ".venv",
   "language": "python",
   "name": "python3"
  },
  "language_info": {
   "codemirror_mode": {
    "name": "ipython",
    "version": 3
   },
   "file_extension": ".py",
   "mimetype": "text/x-python",
   "name": "python",
   "nbconvert_exporter": "python",
   "pygments_lexer": "ipython3",
   "version": "3.9.6"
  },
  "orig_nbformat": 4
 },
 "nbformat": 4,
 "nbformat_minor": 2
}
