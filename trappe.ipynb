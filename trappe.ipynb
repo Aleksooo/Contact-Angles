{
 "cells": [
  {
   "cell_type": "code",
   "execution_count": 1,
   "metadata": {},
   "outputs": [],
   "source": [
    "import numpy as np"
   ]
  },
  {
   "cell_type": "code",
   "execution_count": 15,
   "metadata": {},
   "outputs": [
    {
     "name": "stdout",
     "output_type": "stream",
     "text": [
      "3.090861e-01 5.820480e-01\n"
     ]
    }
   ],
   "source": [
    "# CA\n",
    "# C12 = 2.52e-7\n",
    "# C6 = 1.42e-3\n",
    "\n",
    "# CCA\n",
    "# C12 = 1.44e-5\n",
    "# C6 = 4.61e-3\n",
    "\n",
    "# OCA\n",
    "C12 = 1.77e-6\n",
    "C6 = 2.03e-3\n",
    "\n",
    "eps = C6 * C6 / 4 / C12\n",
    "sigm = np.power(C12 / C6, 1/6)\n",
    "print('{:e}'.format(sigm), '{:e}'.format(eps))"
   ]
  },
  {
   "cell_type": "code",
   "execution_count": null,
   "metadata": {},
   "outputs": [],
   "source": []
  }
 ],
 "metadata": {
  "kernelspec": {
   "display_name": ".venv",
   "language": "python",
   "name": "python3"
  },
  "language_info": {
   "codemirror_mode": {
    "name": "ipython",
    "version": 3
   },
   "file_extension": ".py",
   "mimetype": "text/x-python",
   "name": "python",
   "nbconvert_exporter": "python",
   "pygments_lexer": "ipython3",
   "version": "3.9.6"
  },
  "orig_nbformat": 4
 },
 "nbformat": 4,
 "nbformat_minor": 2
}
