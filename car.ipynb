{
 "cells": [
  {
   "cell_type": "code",
   "execution_count": 1,
   "metadata": {},
   "outputs": [],
   "source": [
    "import numpy as np\n",
    "import matplotlib.pyplot as plt\n",
    "from tqdm import tqdm\n",
    "import os\n",
    "from src.utils_py.io.gro import read_gro, write_gro\n",
    "from src.utils_py.gro.Structure import Structure\n",
    "from src.utils_py.gro.Atom import Atom\n",
    "from src.utils_py.geom.Box import Box\n",
    "from src.utils_py.geom.AntiSphere import AntiSphere\n",
    "from src.utils_py.geom.Sphere import Sphere\n",
    "from src.utils_py.geom.Cylinder import Cylinder\n",
    "from src.utils_py.geom.AntiCylinder import AntiCylinder\n",
    "from src.utils_py.geom.CylinderSegment import CylinderSegment\n",
    "from src.utils_py.geom.AntiCylinderSegment import AntiCylinderSegment\n",
    "from src.utils_py.assembler.insert import insert_point_into_shape, find_position\n",
    "from src.utils_py.assembler.push import push_atoms_apart\n",
    "from src.utils_py.assembler.build import build_system"
   ]
  },
  {
   "attachments": {},
   "cell_type": "markdown",
   "metadata": {},
   "source": [
    "---"
   ]
  },
  {
   "attachments": {},
   "cell_type": "markdown",
   "metadata": {},
   "source": [
    "#### Конфигурация"
   ]
  },
  {
   "cell_type": "code",
   "execution_count": 2,
   "metadata": {},
   "outputs": [],
   "source": [
    "folder = 'droplet_carbon_gromos'\n",
    "dir_gro = 'ff/gromos/gro/'"
   ]
  },
  {
   "cell_type": "code",
   "execution_count": 3,
   "metadata": {},
   "outputs": [],
   "source": [
    "HEIGHT = 6.5\n",
    "WIDTH_X = 5.56\n",
    "WIDTH_Y = 5.56\n",
    "\n",
    "offset = 1\n",
    "delta_h = 0.1\n",
    "h = 2.337"
   ]
  },
  {
   "cell_type": "code",
   "execution_count": 4,
   "metadata": {},
   "outputs": [
    {
     "name": "stdout",
     "output_type": "stream",
     "text": [
      "Number of molecules:\n",
      "decane \t 83\n",
      "spce \t 5718\n",
      "\n",
      "Filling system:\n"
     ]
    },
    {
     "name": "stderr",
     "output_type": "stream",
     "text": [
      "100%|██████████| 83/83 [00:04<00:00, 19.95it/s]\n",
      "100%|██████████| 5718/5718 [02:24<00:00, 39.48it/s] \n"
     ]
    }
   ],
   "source": [
    "''' ПАРАМЕТРЫ НЕ ТРОГАТЬ!!! '''\n",
    "insertion_limit = int(1e5)\n",
    "rotation_limit = 1000\n",
    "package = 0.35\n",
    "distance = {'min': 0.08**2, 'opt': 0.12**2}\n",
    "phi = 180\n",
    "\n",
    "system_size = np.array([WIDTH_X, WIDTH_Y, HEIGHT + h])\n",
    "# structure = Structure(box=system_size, atoms=[])\n",
    "structure = read_gro(f'na_diff/{folder}/car_shifted.gro')\n",
    "points = list(structure.get_XYZ())\n",
    "structure.box = system_size\n",
    "\n",
    "names = ['decane', 'spce']\n",
    "density = [3, 33] # nm-3\n",
    "# names = ['spce']\n",
    "# density = [33] # nm-3\n",
    "\n",
    "box = Box(\n",
    "    center=np.array([WIDTH_X/2, WIDTH_Y/2, h + HEIGHT/2]),\n",
    "    borders=np.array([WIDTH_X, WIDTH_Y, HEIGHT])\n",
    ")\n",
    "\n",
    "box_delta = Box(\n",
    "    center=np.array([WIDTH_X/2, WIDTH_Y/2, h + HEIGHT/2]),\n",
    "    borders=np.array([WIDTH_X, WIDTH_Y, HEIGHT - 2 * delta_h])\n",
    ")\n",
    "\n",
    "R = (WIDTH_Y - 2 * offset) / 2 / np.sin(np.deg2rad(phi / 2))\n",
    "r = (WIDTH_Y - 2 * offset) / 2 / np.tan(np.deg2rad(phi / 2))\n",
    "\n",
    "cylinder=Cylinder(\n",
    "    np.array([WIDTH_X/2, WIDTH_Y/2, h - r]), \n",
    "    radius=R, \n",
    "    length=WIDTH_X, \n",
    "    axis=np.array([1, 0, 0])\n",
    ")\n",
    "\n",
    "cylinder_segment = CylinderSegment(\n",
    "    center=np.array([WIDTH_X/2, WIDTH_Y/2, h - r]), \n",
    "    cylinder=cylinder,\n",
    "    segm_radius=r,\n",
    "    norm=np.array([0, 0, 1])\n",
    ")\n",
    "\n",
    "cylinder_segment_delta = CylinderSegment(\n",
    "    center=np.array([WIDTH_X/2, WIDTH_Y/2, h - r]), \n",
    "    cylinder=cylinder,\n",
    "    segm_radius=r - delta_h,\n",
    "    norm=np.array([0, 0, 1])\n",
    ")\n",
    "\n",
    "anticylinder_segment = AntiCylinderSegment(\n",
    "    center=cylinder_segment.center,\n",
    "    cylinder_segment=cylinder_segment,\n",
    "    box=box\n",
    ")\n",
    "\n",
    "anticylinder_segment_delta = AntiCylinderSegment(\n",
    "    center=cylinder_segment_delta.center,\n",
    "    cylinder_segment=cylinder_segment_delta,\n",
    "    box=box_delta\n",
    ")\n",
    "\n",
    "insert_shapes = [cylinder_segment_delta, anticylinder_segment_delta]\n",
    "shapes = [cylinder_segment, anticylinder_segment]\n",
    "# insert_shapes = [anticylinder_segment_delta]\n",
    "# shapes = [anticylinder_segment]\n",
    "numbers = list(np.round(np.array([shapes[i].get_volume() * density[i] for i in range(len(names))])).astype(int))\n",
    "\n",
    "structure = build_system(\n",
    "    dir_gro, structure, names, numbers, insert_shapes, points,\n",
    "    insertion_limit=insertion_limit,\n",
    "    rotation_limit=rotation_limit,\n",
    "    package=package,\n",
    "    min_dist2=distance['min']\n",
    ")"
   ]
  },
  {
   "attachments": {},
   "cell_type": "markdown",
   "metadata": {},
   "source": [
    "#### Запись .gro и system.itp"
   ]
  },
  {
   "cell_type": "code",
   "execution_count": 5,
   "metadata": {},
   "outputs": [],
   "source": [
    "mol_names = ''.join(map(lambda x: 'w' if x == 'spce' else x[0], names))\n",
    "mol_nums = '_'.join(map(str, numbers))\n",
    "filename = 'car_'+ mol_names + '_' + mol_nums\n",
    "\n",
    "'''\n",
    "#include \"decane.itp\"\n",
    "#include \"spce.itp\"\n",
    "#include \"sil.itp\"\n",
    "\n",
    "[ system ]\n",
    "test\n",
    "\n",
    "[ molecules ]\n",
    "; molecule name         nr.\n",
    "#include \"calmol.itp\"\n",
    "spce \t 1311\n",
    "decane \t 2161\n",
    "'''\n",
    "\n",
    "with open(f'na_diff/{folder}/system.itp', 'w') as f:\n",
    "    for name in names:\n",
    "        f.write(f'#include \"{name}.itp\"\\n')\n",
    "    f.write('#include \"carbon.itp\"\\n')\n",
    "\n",
    "    f.write(f'\\n[ system ]\\n{filename}\\n')\n",
    "    f.write('\\n[ molecules ]\\n; molecule name\\tnr.\\n')\n",
    "    f.write('#include \"carmol_11.itp\"\\n')\n",
    "    for i, name in enumerate(names):\n",
    "        f.write(f'{name}\\t{numbers[i]}\\n')\n",
    "\n",
    "with open(f'na_diff/{folder}/{filename}.gro', 'w') as f:\n",
    "    f.write(write_gro(structure))"
   ]
  },
  {
   "attachments": {},
   "cell_type": "markdown",
   "metadata": {},
   "source": [
    "#### Перемешивание"
   ]
  },
  {
   "cell_type": "code",
   "execution_count": 14,
   "metadata": {},
   "outputs": [
    {
     "name": "stdout",
     "output_type": "stream",
     "text": [
      "Iteration 1 - 1s\n",
      "25 overlaps detected\n",
      "Iteration 2 - 2s\n",
      "1 overlaps detected\n",
      "Iteration 3 - 3s\n",
      "0 overlaps detected\n"
     ]
    },
    {
     "data": {
      "text/plain": [
       "0"
      ]
     },
     "execution_count": 14,
     "metadata": {},
     "output_type": "execute_result"
    }
   ],
   "source": [
    "os.system(f'./mixer -f na_diff/{folder}/{filename}.gro -o na_diff/{folder}/{filename}.gro -mn2 {distance[\"min\"]} -opt2 {distance[\"opt\"]}')"
   ]
  },
  {
   "attachments": {},
   "cell_type": "markdown",
   "metadata": {},
   "source": [
    "#### Отправка файлов на сервер"
   ]
  },
  {
   "cell_type": "code",
   "execution_count": 44,
   "metadata": {},
   "outputs": [],
   "source": [
    "files = [filename+'.gro', 'gromos.top', 'spce.itp', 'decane.itp', 'carbon.itp', 'carmol_11.itp', 'system.itp']\n",
    "\n",
    "for file in files:\n",
    "    os.system(f'scp na_diff/{folder}/{file} mipt-nd:alexey/{folder}/{file}')"
   ]
  },
  {
   "attachments": {},
   "cell_type": "markdown",
   "metadata": {},
   "source": [
    "---"
   ]
  },
  {
   "attachments": {},
   "cell_type": "markdown",
   "metadata": {},
   "source": [
    "#### Стягиваем файлы для проверки"
   ]
  },
  {
   "cell_type": "code",
   "execution_count": 45,
   "metadata": {},
   "outputs": [
    {
     "data": {
      "text/plain": [
       "0"
      ]
     },
     "execution_count": 45,
     "metadata": {},
     "output_type": "execute_result"
    }
   ],
   "source": [
    "os.system(f'scp mipt-nd:alexey/{folder}/{filename}.gro data/{filename}.gro')\n",
    "os.system(f'scp mipt-nd:alexey/{folder}/{filename}.xtc data/{filename}.xtc')"
   ]
  },
  {
   "attachments": {},
   "cell_type": "markdown",
   "metadata": {},
   "source": [
    "#### Стягиваем файлы для рассчетов профилей плотности"
   ]
  },
  {
   "cell_type": "code",
   "execution_count": 46,
   "metadata": {},
   "outputs": [
    {
     "data": {
      "text/plain": [
       "0"
      ]
     },
     "execution_count": 46,
     "metadata": {},
     "output_type": "execute_result"
    }
   ],
   "source": [
    "os.system(f'scp mipt-nd:alexey/{folder}/{filename}.gro data/{filename}.gro')\n",
    "os.system(f'scp mipt-nd:alexey/{folder}/{filename}.xtc data/{filename}.xtc')\n",
    "os.system(f'scp mipt-nd:alexey/{folder}/{filename}.edr data/{filename}.edr')\n",
    "os.system(f'scp mipt-nd:alexey/{folder}/{filename}.tpr data/{filename}.tpr')"
   ]
  },
  {
   "attachments": {},
   "cell_type": "markdown",
   "metadata": {},
   "source": [
    "---"
   ]
  },
  {
   "attachments": {},
   "cell_type": "markdown",
   "metadata": {},
   "source": [
    "#### Рассчет энергии"
   ]
  },
  {
   "cell_type": "code",
   "execution_count": 10,
   "metadata": {},
   "outputs": [
    {
     "name": "stdout",
     "output_type": "stream",
     "text": [
      "\n",
      "Statistics over 1000001 steps [ 0.0000 through 2000.0000 ps ], 1 data sets\n",
      "All statistics are over 10001 points\n",
      "\n",
      "Energy                      Average   Err.Est.       RMSD  Tot-Drift\n",
      "-------------------------------------------------------------------------------\n",
      "Total Energy               -49511.3         32    348.704   -156.418  (kJ/mol)\n"
     ]
    },
    {
     "name": "stderr",
     "output_type": "stream",
     "text": [
      "                  :-) GROMACS - gmx energy, 2023-Homebrew (-:\n",
      "\n",
      "Executable:   /opt/homebrew/bin/../Cellar/gromacs/2023/bin/gmx\n",
      "Data prefix:  /opt/homebrew/bin/../Cellar/gromacs/2023\n",
      "Working dir:  /Users/alexey/Dev/MD_conf\n",
      "Command line:\n",
      "  gmx energy -f data/car_wd_913_520 -s data/car_wd_913_520 -o data/energy\n",
      "\n",
      "Opened data/car_wd_913_520.edr as single precision energy file\n",
      "\n",
      "Select the terms you want from the following list by\n",
      "selecting either (part of) the name or the number or a combination.\n",
      "End your selection with an empty line or a zero.\n",
      "-------------------------------------------------------------------\n",
      "  1  G96Angle         2  Proper-Dih.      3  LJ-14            4  Coulomb-14    \n",
      "  5  LJ-(SR)          6  Coulomb-(SR)     7  Coul.-recip.     8  Potential     \n",
      "  9  Kinetic-En.     10  Total-Energy    11  Conserved-En.   12  Temperature   \n",
      " 13  Pressure        14  Constr.-rmsd    15  Vir-XX          16  Vir-XY        \n",
      " 17  Vir-XZ          18  Vir-YX          19  Vir-YY          20  Vir-YZ        \n",
      " 21  Vir-ZX          22  Vir-ZY          23  Vir-ZZ          24  Pres-XX       \n",
      " 25  Pres-XY         26  Pres-XZ         27  Pres-YX         28  Pres-YY       \n",
      " 29  Pres-YZ         30  Pres-ZX         31  Pres-ZY         32  Pres-ZZ       \n",
      " 33  #Surf*SurfTen   34  T-System        35  Lamb-System   \n",
      "\n",
      "\n",
      "Back Off! I just backed up data/energy.xvg to data/#energy.xvg.1#\n",
      "Last energy frame read 1000 time 2000.000         \n",
      "\n",
      "GROMACS reminds you: \"I Am Testing Your Grey Matter\" (Red Hot Chili Peppers)\n",
      "\n"
     ]
    },
    {
     "data": {
      "text/plain": [
       "0"
      ]
     },
     "execution_count": 10,
     "metadata": {},
     "output_type": "execute_result"
    }
   ],
   "source": [
    "os.system(f'echo 10 0 | gmx energy -f data/{filename} -s data/{filename} -o data/energy')\n",
    "os.system(f'rm data/#*#')"
   ]
  },
  {
   "cell_type": "code",
   "execution_count": 14,
   "metadata": {},
   "outputs": [
    {
     "data": {
      "text/plain": [
       "[<matplotlib.lines.Line2D at 0x127747c10>]"
      ]
     },
     "execution_count": 14,
     "metadata": {},
     "output_type": "execute_result"
    },
    {
     "data": {
      "image/png": "[encoded data removed]",
      "text/plain": [
       "<Figure size 800x600 with 1 Axes>"
      ]
     },
     "metadata": {},
     "output_type": "display_data"
    }
   ],
   "source": [
    "y, eng = np.loadtxt(\"data/energy.xvg\",comments=[\"@\", \"#\"],unpack=True)\n",
    "plt.figure(figsize=(8, 6))\n",
    "plt.grid()\n",
    "plt.plot(y, eng)"
   ]
  },
  {
   "attachments": {},
   "cell_type": "markdown",
   "metadata": {},
   "source": [
    "---"
   ]
  },
  {
   "attachments": {},
   "cell_type": "markdown",
   "metadata": {},
   "source": [
    "#### Рассчет профиля плотности"
   ]
  },
  {
   "cell_type": "code",
   "execution_count": 44,
   "metadata": {},
   "outputs": [
    {
     "name": "stderr",
     "output_type": "stream",
     "text": [
      "                  :-) GROMACS - gmx density, 2023-Homebrew (-:\n",
      "\n",
      "Executable:   /opt/homebrew/bin/../Cellar/gromacs/2023/bin/gmx\n",
      "Data prefix:  /opt/homebrew/bin/../Cellar/gromacs/2023\n",
      "Working dir:  /Users/alexey/Dev/MD_conf\n",
      "Command line:\n",
      "  gmx density -f data/car_wd_913_520 -s data/car_wd_913_520 -o data/density -d Z -sl 50 -dens number -ng 1 -b 500\n",
      "\n",
      "Reading file data/car_wd_913_520.tpr, VERSION 2019.2 (single precision)\n",
      "\n",
      "Select 1 group to calculate density for:\n",
      "Group     0 (         System) has 14590 elements\n",
      "Group     1 (          Other) has 14590 elements\n",
      "Group     2 (             GR) has  6609 elements\n",
      "Group     3 (            GR1) has    14 elements\n",
      "Group     4 (            GRO) has    14 elements\n",
      "Group     5 (            GRH) has    14 elements\n",
      "Group     6 (          WATER) has  2739 elements\n",
      "Group     7 (          DECAN) has  5200 elements\n",
      "Reading frame    1300 time 1800.000   "
     ]
    },
    {
     "name": "stdout",
     "output_type": "stream",
     "text": [
      "Selected 6: 'WATER'\n"
     ]
    },
    {
     "name": "stderr",
     "output_type": "stream",
     "text": [
      "Last frame       1500 time 2000.000   \n",
      "\n",
      "Read 1501 frames from trajectory. Calculating density\n",
      "\n",
      "Back Off! I just backed up data/density.xvg to data/#density.xvg.1#\n",
      "\n",
      "GROMACS reminds you: \"Breaking the Law, Breaking the Law\" (Judas Priest)\n",
      "\n"
     ]
    },
    {
     "data": {
      "text/plain": [
       "0"
      ]
     },
     "execution_count": 44,
     "metadata": {},
     "output_type": "execute_result"
    }
   ],
   "source": [
    "os.system(f'echo 6 | gmx density -f data/{filename} -s data/{filename} -o data/density -d Z -sl 50 -dens number -ng 1 -b 500')\n",
    "os.system(f'rm data/#*#')"
   ]
  },
  {
   "cell_type": "code",
   "execution_count": 45,
   "metadata": {},
   "outputs": [
    {
     "data": {
      "text/plain": [
       "[<matplotlib.lines.Line2D at 0x128a73cd0>]"
      ]
     },
     "execution_count": 45,
     "metadata": {},
     "output_type": "execute_result"
    },
    {
     "data": {
      "image/png": "[encoded data removed]",
      "text/plain": [
       "<Figure size 800x600 with 1 Axes>"
      ]
     },
     "metadata": {},
     "output_type": "display_data"
    }
   ],
   "source": [
    "y, dens = np.loadtxt(\"data/density.xvg\",comments=[\"@\", \"#\"],unpack=True)\n",
    "plt.figure(figsize=(8, 6))\n",
    "plt.grid()\n",
    "ax = plt.gca()\n",
    "ax.set_aspect(1)\n",
    "plt.plot(dens / 33, y)\n"
   ]
  },
  {
   "cell_type": "code",
   "execution_count": 36,
   "metadata": {},
   "outputs": [
    {
     "ename": "IndexError",
     "evalue": "too many indices for array: array is 1-dimensional, but 3 were indexed",
     "output_type": "error",
     "traceback": [
      "\u001b[0;31m---------------------------------------------------------------------------\u001b[0m",
      "\u001b[0;31mIndexError\u001b[0m                                Traceback (most recent call last)",
      "Cell \u001b[0;32mIn[36], line 12\u001b[0m\n\u001b[1;32m      9\u001b[0m \u001b[39mid\u001b[39m \u001b[39m=\u001b[39m np\u001b[39m.\u001b[39mfloor(a\u001b[39m.\u001b[39mxyz \u001b[39m/\u001b[39m dr)\u001b[39m.\u001b[39mastype(\u001b[39mint\u001b[39m)\n\u001b[1;32m     10\u001b[0m \u001b[39mid\u001b[39m \u001b[39m-\u001b[39m\u001b[39m=\u001b[39m (\u001b[39mid\u001b[39m \u001b[39m==\u001b[39m N)\n\u001b[0;32m---> 12\u001b[0m grid[\u001b[39mid\u001b[39m[\u001b[39m0\u001b[39m], \u001b[39mid\u001b[39m[\u001b[39m1\u001b[39m], \u001b[39mid\u001b[39m[\u001b[39m2\u001b[39m]] \u001b[39m+\u001b[39m\u001b[39m=\u001b[39m \u001b[39m1\u001b[39m\n",
      "\u001b[0;31mIndexError\u001b[0m: too many indices for array: array is 1-dimensional, but 3 were indexed"
     ]
    }
   ],
   "source": [
    "structure = read_gro(f'data/car_wd_913_520.gro')\n",
    "type = 'WATER'\n",
    "N = 100\n",
    "grid = np.zeros(N)\n",
    "dr = structure.box / N\n",
    "\n",
    "for a in structure.atoms:\n",
    "    if (a.mol_name == type):\n",
    "        id = np.floor(a.xyz / dr).astype(int)\n",
    "        id -= (id == N)\n",
    "\n",
    "        grid[id[0], id[1], id[2]] += 1"
   ]
  },
  {
   "attachments": {},
   "cell_type": "markdown",
   "metadata": {},
   "source": [
    "---"
   ]
  },
  {
   "cell_type": "code",
   "execution_count": 4,
   "metadata": {},
   "outputs": [],
   "source": [
    "phi = 90\n",
    "\n",
    "box = Box(\n",
    "    center=np.array([WIDTH_X/2, WIDTH_Y/2, h + HEIGHT/2]),\n",
    "    borders=np.array([WIDTH_X, WIDTH_Y, HEIGHT])\n",
    ")\n",
    "\n",
    "box_delta = Box(\n",
    "    center=np.array([WIDTH_X/2, WIDTH_Y/2, h + HEIGHT/2]),\n",
    "    borders=np.array([WIDTH_X, WIDTH_Y, HEIGHT - 2 * delta_h])\n",
    ")\n",
    "\n",
    "R = (WIDTH_Y - 2 * offset) / 2 / np.sin(np.deg2rad(phi / 2))\n",
    "r = (WIDTH_Y - 2 * offset) / 2 / np.tan(np.deg2rad(phi / 2))\n",
    "\n",
    "cylinder=Cylinder(\n",
    "    np.array([WIDTH_X/2, WIDTH_Y/2, h - r]), \n",
    "    radius=R, \n",
    "    length=WIDTH_X, \n",
    "    axis=np.array([1, 0, 0])\n",
    ")\n",
    "\n",
    "cylinder_segment = CylinderSegment(\n",
    "    center=np.array([WIDTH_X/2, WIDTH_Y/2, h - r]), \n",
    "    cylinder=cylinder,\n",
    "    segm_radius=r,\n",
    "    norm=np.array([0, 0, 1])\n",
    ")\n",
    "\n",
    "cylinder_segment_delta = CylinderSegment(\n",
    "    center=np.array([WIDTH_X/2, WIDTH_Y/2, h - r]), \n",
    "    cylinder=cylinder,\n",
    "    segm_radius=r - delta_h,\n",
    "    norm=np.array([0, 0, 1])\n",
    ")\n",
    "\n",
    "anticylinder_segment = AntiCylinderSegment(\n",
    "    center=cylinder_segment.center,\n",
    "    cylinder_segment=cylinder_segment,\n",
    "    box=box\n",
    ")\n",
    "\n",
    "anticylinder_segment_delta = AntiCylinderSegment(\n",
    "    center=cylinder_segment_delta.center,\n",
    "    cylinder_segment=cylinder_segment_delta,\n",
    "    box=box_delta\n",
    ")"
   ]
  },
  {
   "cell_type": "code",
   "execution_count": 9,
   "metadata": {},
   "outputs": [
    {
     "name": "stdout",
     "output_type": "stream",
     "text": [
      "2.517300141024109 1.78\n"
     ]
    }
   ],
   "source": [
    "print(R, r)"
   ]
  },
  {
   "cell_type": "code",
   "execution_count": 12,
   "metadata": {},
   "outputs": [
    {
     "data": {
      "text/plain": [
       "False"
      ]
     },
     "execution_count": 12,
     "metadata": {},
     "output_type": "execute_result"
    }
   ],
   "source": [
    "anticylinder_segment.check_point(np.array([WIDTH_X/2, WIDTH_Y/2, h+0.2]))"
   ]
  },
  {
   "cell_type": "code",
   "execution_count": 6,
   "metadata": {},
   "outputs": [
    {
     "data": {
      "text/plain": [
       "True"
      ]
     },
     "execution_count": 6,
     "metadata": {},
     "output_type": "execute_result"
    }
   ],
   "source": [
    "cylinder_segment.check_point(np.array([WIDTH_X/2, WIDTH_Y/2, h + 0.2]))"
   ]
  },
  {
   "cell_type": "code",
   "execution_count": null,
   "metadata": {},
   "outputs": [],
   "source": []
  }
 ],
 "metadata": {
  "kernelspec": {
   "display_name": ".venv",
   "language": "python",
   "name": "python3"
  },
  "language_info": {
   "codemirror_mode": {
    "name": "ipython",
    "version": 3
   },
   "file_extension": ".py",
   "mimetype": "text/x-python",
   "name": "python",
   "nbconvert_exporter": "python",
   "pygments_lexer": "ipython3",
   "version": "3.9.6"
  },
  "orig_nbformat": 4
 },
 "nbformat": 4,
 "nbformat_minor": 2
}
