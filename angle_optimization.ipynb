{
 "cells": [
  {
   "cell_type": "code",
   "execution_count": 1,
   "metadata": {},
   "outputs": [],
   "source": [
    "import numpy as np\n",
    "import matplotlib.pyplot as plt\n",
    "import os\n",
    "from src.utils_py.io.gro import read_gro, write_gro\n",
    "from circle_fit import taubinSVD\n",
    "from hyperopt import fmin, tpe, hp, Trials"
   ]
  },
  {
   "cell_type": "code",
   "execution_count": 2,
   "metadata": {},
   "outputs": [],
   "source": [
    "def rho_approx(zeta, l, phi, theta):\n",
    "    if np.abs(theta - np.pi / 2) < 0.5:\n",
    "            return phi - (1 - 120 * zeta**2 + 720 * zeta**4) * (theta - np.pi / 2)**3 / 360 / l - (12 * zeta**2 - 1) * (theta - np.pi / 2) / 6 / l\n",
    "\n",
    "    return (phi * l - (2 * theta - np.pi) / 4 / np.cos(theta)**2 + np.sign(2 * theta - np.pi) * np.sqrt(1 / np.cos(theta)**2 - 4 * zeta**2) + np.tan(theta) / 2) / l"
   ]
  },
  {
   "cell_type": "code",
   "execution_count": 3,
   "metadata": {},
   "outputs": [],
   "source": [
    "def data_cutting(z, dens, offset):\n",
    "    new_z, new_dens = [], []\n",
    "    for i, zi in enumerate(z):\n",
    "        if np.abs(zi) <= 0.5 - offset:\n",
    "            new_z.append(zi)\n",
    "            new_dens.append(dens[i])\n",
    "\n",
    "    return np.array(new_z), np.array(new_dens)"
   ]
  },
  {
   "cell_type": "code",
   "execution_count": 4,
   "metadata": {},
   "outputs": [],
   "source": [
    "def dens_norm(z, dens, angle):\n",
    "    dens /= np.trapz(dens, z)\n",
    "    dens *= np.trapz(rho_approx(z, 2.5, 0.5, angle), z)\n",
    "\n",
    "    return dens"
   ]
  },
  {
   "cell_type": "code",
   "execution_count": 6,
   "metadata": {},
   "outputs": [
    {
     "data": {
      "text/plain": [
       "(0.0, 1.0)"
      ]
     },
     "execution_count": 6,
     "metadata": {},
     "output_type": "execute_result"
    },
    {
     "data": {
      "image/png": "[encoded data removed]",
      "text/plain": [
       "<Figure size 640x480 with 1 Axes>"
      ]
     },
     "metadata": {},
     "output_type": "display_data"
    }
   ],
   "source": [
    "angle = 60\n",
    "H = 3.928\n",
    "z, dens = np.loadtxt(f\"na_diff/angles/density/density_{angle}.xvg\", comments=[\"@\", \"#\"], unpack=True)\n",
    "z /= H\n",
    "offset = 0.15\n",
    "\n",
    "z, dens = data_cutting(z, dens, offset)\n",
    "dens = dens_norm(z, dens, np.deg2rad(angle))\n",
    "\n",
    "plt.grid()\n",
    "plt.plot(z, dens)\n",
    "plt.plot(z, rho_approx(z, 2.5, 0.5, np.deg2rad(angle)))\n",
    "plt.xlim(-0.5, 0.5)\n",
    "plt.ylim(0, 1)"
   ]
  },
  {
   "cell_type": "code",
   "execution_count": 39,
   "metadata": {},
   "outputs": [],
   "source": [
    "angle = 60\n",
    "H = 3.928\n",
    "offset = 0.125\n",
    "\n",
    "def objective(args):\n",
    "    z, dens = np.loadtxt(f\"na_diff/angles/density/density_{angle}.xvg\", comments=[\"@\", \"#\"], unpack=True)\n",
    "    z /= H\n",
    "\n",
    "    z, dens = data_cutting(z, dens, offset)\n",
    "    dens = dens_norm(z, dens, args['theta'])\n",
    "\n",
    "    # return np.sum((rho_approx(z, 2.5, 0.5, args['theta']) - dens)**2)\n",
    "    return np.sum(np.abs(rho_approx(z, 2.5, 0.5, args['theta']) - dens))"
   ]
  },
  {
   "cell_type": "code",
   "execution_count": 48,
   "metadata": {},
   "outputs": [],
   "source": [
    "def fit():\n",
    "    trials = Trials()\n",
    "    space = {\n",
    "        'theta': hp.uniform('theta', 0, np.pi)\n",
    "    }\n",
    "\n",
    "    best = fmin(\n",
    "        fn=objective,\n",
    "        space=space,\n",
    "        algo=tpe.suggest,\n",
    "        max_evals=500,\n",
    "        trials=trials,\n",
    "        show_progressbar=False\n",
    "    )\n",
    "\n",
    "    return best"
   ]
  },
  {
   "cell_type": "code",
   "execution_count": 55,
   "metadata": {},
   "outputs": [
    {
     "name": "stdout",
     "output_type": "stream",
     "text": [
      "offset: 0.13\n",
      "real\tapprox\n",
      "15\t43.9\n",
      "30\t59.9\n",
      "45\t38.7\n",
      "60\t61.3\n",
      "75\t89.5\n",
      "90\t83.6\n",
      "105\t105.6\n",
      "120\t114.3\n",
      "135\t155.7\n",
      "150\t162.2\n",
      "165\t171.1\n",
      "\n"
     ]
    }
   ],
   "source": [
    "real = []\n",
    "approx = []\n",
    "for offset in [0.13]:\n",
    "    print('offset:', offset)\n",
    "    print('real\\tapprox')\n",
    "    for angle in range(15, 166, 15):\n",
    "        H = 3.928\n",
    "        # offset = 0.125\n",
    "\n",
    "        def objective(args):\n",
    "            z, dens = np.loadtxt(f\"na_diff/angles/density/density_{angle}.xvg\", comments=[\"@\", \"#\"], unpack=True)\n",
    "            z /= H\n",
    "\n",
    "            z, dens = data_cutting(z, dens, offset)\n",
    "            dens = dens_norm(z, dens, args['theta'])\n",
    "\n",
    "            return np.sum((rho_approx(z, 2.5, 0.5, args['theta']) - dens)**2)\n",
    "\n",
    "        best = fit()\n",
    "        print(str(angle)+'\\t'+'{:.1f}'.format(np.rad2deg(best['theta'])))\n",
    "        real.append(angle)\n",
    "        approx.append(np.rad2deg(best['theta']))\n",
    "    print()"
   ]
  },
  {
   "cell_type": "code",
   "execution_count": 56,
   "metadata": {},
   "outputs": [],
   "source": [
    "real = np.array(real)\n",
    "approx = np.array(approx)"
   ]
  },
  {
   "cell_type": "code",
   "execution_count": 58,
   "metadata": {},
   "outputs": [
    {
     "data": {
      "text/plain": [
       "6.605585231236273"
      ]
     },
     "execution_count": 58,
     "metadata": {},
     "output_type": "execute_result"
    }
   ],
   "source": [
    "i = 5\n",
    "np.mean(np.abs(real[i:] - approx[i:]) / real[i:] * 100)"
   ]
  },
  {
   "cell_type": "code",
   "execution_count": 52,
   "metadata": {},
   "outputs": [
    {
     "data": {
      "text/plain": [
       "(0.0, 1.0)"
      ]
     },
     "execution_count": 52,
     "metadata": {},
     "output_type": "execute_result"
    },
    {
     "data": {
      "image/png": "[encoded data removed]",
      "text/plain": [
       "<Figure size 640x480 with 1 Axes>"
      ]
     },
     "metadata": {},
     "output_type": "display_data"
    }
   ],
   "source": [
    "angle = 165\n",
    "H = 3.928\n",
    "z, dens = np.loadtxt(f\"na_diff/angles/density/density_{angle}.xvg\", comments=[\"@\", \"#\"], unpack=True)\n",
    "z /= H\n",
    "offset = 0.15\n",
    "\n",
    "z, dens = data_cutting(z, dens, offset)\n",
    "dens = dens_norm(z, dens, best['theta'])\n",
    "\n",
    "plt.grid()\n",
    "plt.plot(z, dens)\n",
    "plt.plot(z, rho_approx(z, 2.5, 0.5, best['theta']))\n",
    "plt.xlim(-0.5, 0.5)\n",
    "plt.ylim(0, 1)"
   ]
  },
  {
   "cell_type": "code",
   "execution_count": null,
   "metadata": {},
   "outputs": [],
   "source": []
  }
 ],
 "metadata": {
  "kernelspec": {
   "display_name": ".venv",
   "language": "python",
   "name": "python3"
  },
  "language_info": {
   "codemirror_mode": {
    "name": "ipython",
    "version": 3
   },
   "file_extension": ".py",
   "mimetype": "text/x-python",
   "name": "python",
   "nbconvert_exporter": "python",
   "pygments_lexer": "ipython3",
   "version": "3.9.6"
  },
  "orig_nbformat": 4
 },
 "nbformat": 4,
 "nbformat_minor": 2
}
